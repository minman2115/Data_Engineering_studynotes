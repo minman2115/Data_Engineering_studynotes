{
 "cells": [
  {
   "cell_type": "markdown",
   "metadata": {},
   "source": [
    "Data_Engineering_TIL_(20190817)\n",
    "\n",
    "study program : https://www.fastcampus.co.kr/dev_camp_devb\n",
    "\n",
    "\n",
    "#### [학습목표]\n",
    "\n",
    "1) AWS ECS를 이용한 컨테이너 클러스터를 구현\n",
    "\n",
    "2) AWS ECR을 이용한 웹서비스를 배포\n",
    "\n",
    "3) AWS CodePipeline을 이용한 코드배포 자동화\n",
    "\n",
    "#### [실습요약]\n",
    "\n",
    "step 1) AWS ECR repo 생성\n",
    "\n",
    "step 2) AWS ECR repo를 컨트롤하는 ec2 client 생성 및 ECR 인증\n",
    "\n",
    "step 3) 실습사전에 미리구현된 web 서비스 도커이미지를 다운받아서 나의 ECR repo에 push\n",
    "\n",
    "step 4) AWS ECS를 이용한 컨테이너 클러스터 생성\n",
    "\n",
    "step 5) 생성한 AWS ECS 컨테이너 클러스터에 대한 작업정의\n",
    "\n",
    "step 6) web 서비스 구현을 위한 로드밸런서 생성\n",
    "\n",
    "step 7) web 서비스 배포\n",
    "\n",
    "step 8) AWS CodePipeline을 이용한 코드배포 자동화 구현\n",
    "\n",
    "\n",
    "\n",
    "#### [실습상세]\n",
    "\n",
    "\n",
    "#### step 1) AWS ECR repo 생성\n",
    "\n",
    "아래 그림과 같이 AWS ECR에서 레포지토리를 생성해준다."
   ]
  },
  {
   "cell_type": "markdown",
   "metadata": {},
   "source": [
    "<img src=\"1.png\" width=\"1000\" />"
   ]
  },
  {
   "cell_type": "markdown",
   "metadata": {},
   "source": [
    "#### step 2) AWS ECR repo를 컨트롤하는 ec2 client 생성 및 ECR 인증\n",
    "\n",
    "아래 그림과 같이 EC2를 생성해주고, 해당 EC2에 접속하여 step 1)에서 생성한 ECR 레포지토리 계정인증을 해준다."
   ]
  },
  {
   "cell_type": "markdown",
   "metadata": {},
   "source": [
    "<img src=\"2.png\" width=\"1000\" />"
   ]
  },
  {
   "cell_type": "markdown",
   "metadata": {},
   "source": [
    "#### step 3) 실습사전에 미리구현된 web 서비스 도커이미지를 다운받아서 나의 ECR repo에 push\n",
    "\n",
    "** 아래그림에서 터미널 화면은 방금 step2)에서 만든 EC2 화면이다."
   ]
  },
  {
   "cell_type": "markdown",
   "metadata": {},
   "source": [
    "<img src=\"3.png\" width=\"1000\" />"
   ]
  },
  {
   "cell_type": "markdown",
   "metadata": {},
   "source": [
    "<img src=\"3-2.png\" width=\"1000\" />"
   ]
  },
  {
   "cell_type": "markdown",
   "metadata": {},
   "source": [
    "#### step 4) AWS ECS를 이용한 컨테이너 클러스터 생성"
   ]
  },
  {
   "cell_type": "markdown",
   "metadata": {},
   "source": [
    "<img src=\"4.png\" width=\"1000\" />"
   ]
  },
  {
   "cell_type": "markdown",
   "metadata": {},
   "source": [
    "#### step 5) 생성한 AWS ECS 컨테이너 클러스터에 대한 작업정의"
   ]
  },
  {
   "cell_type": "markdown",
   "metadata": {},
   "source": [
    "<img src=\"12.png\" width=\"1000\" />"
   ]
  },
  {
   "cell_type": "markdown",
   "metadata": {},
   "source": [
    "#### step 6) web 서비스 구현을 위한 로드밸런서 생성"
   ]
  },
  {
   "cell_type": "markdown",
   "metadata": {},
   "source": [
    "<img src=\"18.png\" width=\"1000\" />"
   ]
  },
  {
   "cell_type": "markdown",
   "metadata": {},
   "source": [
    "#### step 7) web 서비스 배포"
   ]
  },
  {
   "cell_type": "markdown",
   "metadata": {},
   "source": [
    "<img src=\"26.png\" width=\"1000\" />"
   ]
  },
  {
   "cell_type": "markdown",
   "metadata": {},
   "source": [
    "#### step 8) AWS CodePipeline을 이용한 코드배포 자동화 구현\n",
    "\n",
    "step 8-1) codepipeline에서 ECR로 접근을 위한 권한설정"
   ]
  },
  {
   "cell_type": "markdown",
   "metadata": {},
   "source": [
    "<img src=\"31.png\" width=\"1000\" />"
   ]
  },
  {
   "cell_type": "markdown",
   "metadata": {},
   "source": [
    "step 8-2) 파이프라인 생성"
   ]
  },
  {
   "cell_type": "markdown",
   "metadata": {},
   "source": [
    "<img src=\"32.png\" width=\"1000\" />"
   ]
  },
  {
   "cell_type": "markdown",
   "metadata": {},
   "source": [
    "정상적으로 배포되면 아래 그림과 같이 배포 성공화면을 확인할 수 있다."
   ]
  },
  {
   "cell_type": "markdown",
   "metadata": {},
   "source": [
    "<img src=\"40.png\" width=\"1000\" />"
   ]
  },
  {
   "cell_type": "markdown",
   "metadata": {},
   "source": [
    "step 8-3) 나의 웹프로젝트 깃 레포지토리에서 buildspec.yml를 살짝 수정하고 깃허브에 푸쉬를 날리면, 동시에 codepipeline가 git push를 감지하고 코드를 ECS로 자동으로 배포해주는지 확인한다.\n",
    "\n",
    "아래 그림과 같이 코드를 시도하고 git push를 하여 코드배포를 시도해본다."
   ]
  },
  {
   "cell_type": "markdown",
   "metadata": {},
   "source": [
    "<img src=\"41.png\" width=\"1000\" />"
   ]
  },
  {
   "cell_type": "markdown",
   "metadata": {},
   "source": [
    "정상적으로 배포되면 아래 그림과 같이 배포 성공화면을 확인할 수 있다."
   ]
  },
  {
   "cell_type": "markdown",
   "metadata": {},
   "source": [
    "<img src=\"40.png\" width=\"1000\" />"
   ]
  }
 ],
 "metadata": {
  "kernelspec": {
   "display_name": "Python 3",
   "language": "python",
   "name": "python3"
  },
  "language_info": {
   "codemirror_mode": {
    "name": "ipython",
    "version": 3
   },
   "file_extension": ".py",
   "mimetype": "text/x-python",
   "name": "python",
   "nbconvert_exporter": "python",
   "pygments_lexer": "ipython3",
   "version": "3.7.4"
  }
 },
 "nbformat": 4,
 "nbformat_minor": 2
}
