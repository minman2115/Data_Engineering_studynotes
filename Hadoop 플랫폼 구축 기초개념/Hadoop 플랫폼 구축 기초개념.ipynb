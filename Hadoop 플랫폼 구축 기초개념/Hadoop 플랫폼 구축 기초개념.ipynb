{
 "cells": [
  {
   "cell_type": "markdown",
   "metadata": {},
   "source": [
    "Data_EngineeringTIL(20190711)\n",
    "\n",
    "study program : https://www.fastcampus.co.kr/data_camp_hadoop\n",
    "\n",
    "#### [학습목표]\n",
    "\n",
    "- Hadoop 플랫폼 구축방법 이해\n",
    "\n",
    "#### [학습기록]\n",
    "\n",
    "#### 1.  하드웨어/네트워크 구성 및 인프라 설계\n",
    "\n",
    "1) 하둡 인프라 아키텍처\n",
    "\n",
    "- 1대로 구성 시 : 의사분산모드(통상 개발용)\n",
    "\n",
    "\n",
    "- 2대로 구성 시 : 이중화모드(클러스터 운용가능한 최소단위)\n",
    "\n",
    "\n",
    "- 3대이상으로 구성 시 ~ : 분산모드\n",
    "\n",
    "\n",
    "2) 통상적인 하둡 아키텍처 구성양상\n",
    "\n",
    "특정 클러스터 규모 이상이 되면 네트워크 인프라도 동시에 확장시켜줘야 한다. 아니면 구축한 네트워크로 부터 들어오는 데이터 송신속도가 하둡 클러스터의 데이터 처리속도를 따라가지 못해서 비효율적일 수도 있기 때문이다."
   ]
  },
  {
   "cell_type": "markdown",
   "metadata": {},
   "source": [
    "<img src=\"1.png\" width=\"1000\" />"
   ]
  },
  {
   "cell_type": "markdown",
   "metadata": {},
   "source": [
    "#### 2. YARN"
   ]
  },
  {
   "cell_type": "markdown",
   "metadata": {},
   "source": [
    "<img src=\"2.png\" width=\"1000\" />"
   ]
  },
  {
   "cell_type": "markdown",
   "metadata": {},
   "source": [
    "- 어플리케이션은 시작과 끝이 존재하는 프로그램을 말한다. 예를들어 스파크로 어떤 코드실행 시작 누르면 지정된 코드가 수행되면서 끝이 존재함.\n",
    "\n",
    "반면에 데몬이라는 것이 있는데 데몬은 백그라운드에서 항상 돌고 있는 것을 말한다. YARN과 HDFS(또는 HBase)는 데몬이다.\n",
    "\n",
    "- HBase : 하둡 데이터베이스"
   ]
  },
  {
   "cell_type": "markdown",
   "metadata": {},
   "source": [
    "<img src=\"3.png\" width=\"1000\" />"
   ]
  },
  {
   "cell_type": "markdown",
   "metadata": {},
   "source": [
    "위에 그림과 같이 클라이언트에서 뭔가 실행을 하면 전부 일단 리소스 매니저에 간다. 리소스 매니저는 컴퓨팅 자원을 할당해주는 역할을 한다. 자원을 할당해주려면 각 노드에서 노드매니저가 리소스 매니저로 3초마다 한번씩 신호를 보내준다. 어떤 신호냐면 자기 노드가 CPU가 총 몇개가 있는데 몇개는 사용하고 있고, 몇개는 놀고있고, 메모리도 얼마가 있는데 얼마를 쓰고있다, 또한 디스크용량이 얼마나 되는지 이런 신호를 보낸다.\n",
    "\n",
    "그래서 이런 현황을 알고 있는 리소스 매니저(마스터)가 하둡에 있는 모든 데이터 노드를 관리하게 된다. 리소스 매니저는 제일 한가한 노드(노드매니저)에다가 클라이언트가 하고자 하는 일을 할당하게 된다. 그 일을 노드에서 구동을 하는데 그 일을 구동하는데 필요한 맵리듀스를 리소스 매니저에 보고한다. 예를들어 그 일을 실행하려면 맵이 10개가 돌아가야하고 리듀스가 10개 돌아가야합니다라고 위의 3번처럼 리소스 매니저에 보고하고 맵리듀스를 요청한다. 그러면 필요한 맵리듀스 양에 따라 잡을 리소스 매니저에서 각 노드의 상태를 고려해서 할당해준다. 아래 그림도 같은 맥락의 내용이다."
   ]
  },
  {
   "cell_type": "markdown",
   "metadata": {},
   "source": [
    "<img src=\"4.png\" width=\"1000\" />"
   ]
  },
  {
   "cell_type": "markdown",
   "metadata": {},
   "source": [
    "위의 그림을 살펴보면 프로그램이 돌아갈때 MRAppMaster(맵리듀스어플리케이션 마스터)라는게 돌아간다. 그리고 얀차일드(프로세스이름)라는게 돌아간다. 쉽게 얘기하면 MRappMaster가 일을 시키는 얘고, 얀차일드가 실질적으로 일을 하는 얘라고 할 수 있다.\n",
    "\n",
    "- 프로세스 실행 간 각 노드의 리소스 매니저와 노드매니저의 상호작용 예시"
   ]
  },
  {
   "cell_type": "markdown",
   "metadata": {},
   "source": [
    "<img src=\"5.png\" width=\"1000\" />"
   ]
  },
  {
   "cell_type": "markdown",
   "metadata": {},
   "source": [
    "정리하면 이런 잡에 관한 자원관리는 얀의 리소스매니저와 노드매니저가 알아서 해주는 것이고, 데이터 저장은 HDFS에 있는 네임노드가 알아서 해준다. \n",
    "\n",
    "#### 3. 하둡 구동을 위한 주요설정 파일\n",
    "\n",
    "아래 주요설정 파일만 잘 설정해도 하둡이 문제없이 구동된다.\n",
    "\n",
    "통상 한번 클러스터를 잘 구성해놓으면 아래 설정파일 건들일은 거의 없을것이고, 만약에 그런 경우가 있다면 대부분 데이터노드의 추가와 삭제의 경우일 것이다. 이 경우에는 slaves 파일에서 데이터노드의 추가와 삭제에 대해 설정을 해주면 된다.\n",
    "\n",
    "아래의 설정파일들에 대한 것들은 관리자의 관리 포인트이기 때문에 액셀등에 아래 설정파일들의 주요내용들을 잘 기록하여 관리해야한다."
   ]
  },
  {
   "cell_type": "markdown",
   "metadata": {},
   "source": [
    "<img src=\"6.png\" width=\"1000\" />"
   ]
  },
  {
   "cell_type": "markdown",
   "metadata": {},
   "source": [
    "- 하둡 네트워크 설정 시 주의사항\n",
    "\n",
    "하둡클러스터는 항상 내부망을 구성해서 서로 통신하게 해야한다. 하둡 클러스터는 서로 통신하는 데이터양이 많기 때문에 클러스터가 외부망으로 연결되있을 경우 극단적인 경우에 전체 회사의 네트워크시스템이 마비가 될 수 있다."
   ]
  }
 ],
 "metadata": {
  "kernelspec": {
   "display_name": "Python 3",
   "language": "python",
   "name": "python3"
  },
  "language_info": {
   "codemirror_mode": {
    "name": "ipython",
    "version": 3
   },
   "file_extension": ".py",
   "mimetype": "text/x-python",
   "name": "python",
   "nbconvert_exporter": "python",
   "pygments_lexer": "ipython3",
   "version": "3.7.3"
  }
 },
 "nbformat": 4,
 "nbformat_minor": 2
}
