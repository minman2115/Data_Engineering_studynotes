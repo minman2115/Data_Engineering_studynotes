{
 "cells": [
  {
   "cell_type": "markdown",
   "metadata": {},
   "source": [
    "## 0410 작업중 !\n",
    "\n",
    "Data_Engineering_TIL_(20190409)\n",
    "\n",
    "\n",
    "#### [학습목표]\n",
    "\n",
    "\n",
    "- AWS DMS(Database Migration Service) 기초개념 이해 및 실습\n",
    "\n",
    "\n",
    "#### [학습기록]\n",
    "\n",
    "#### AWS DMS 기초개념"
   ]
  },
  {
   "cell_type": "markdown",
   "metadata": {},
   "source": [
    "<img src=\"1.png\" width=\"1000\" />"
   ]
  },
  {
   "cell_type": "markdown",
   "metadata": {},
   "source": [
    "- AWS Database Migration Service(AWS DMS)는 결론적으로 클라우드에 데이터를 모으기 위해 쓰는 툴이다. 위의 파이프라인 아키텍처에서 '수집'단계에서 활용하는 툴이라고 할 수 있다. DMS는 원래 데이터베이스에 대한 마이그레이션 툴로 만들어졌기 때문에 DMS를 사용해서 외부에서 RDS나 S3로 데이터를 보낼 수 있다.\n",
    "\n",
    "\n",
    "- DMS는 관계형데이터베이스, 데이터웨어하우스, NoSQL 데이터베이스 및 그밖의 데이터스토어 유형을 쉽게 마이그레이션 하도록 해주는 클라우드 서비스이다. 다시말해 관계형 RDBMS거나 DW 관련된 데이터, NOSQL로 되어있는 데이터를 분석을 하고자 하는 Redshift나 이런쪽으로 한꺼번에 모을때 보통 사용한다. DMS를 쓰면 쉽게 이런 작업을 할 수 있다.\n",
    "\n",
    "\n",
    "- DMS를 사용하여 AWS 클라우드로, 온프레미스 인스턴스간에(AWS 클라우드 설정을 통해) 또는 클라우드와 온프레미스가 결합된 설정간에 데이터를 마이그레이션 할 수 있다. 다시말해 온프로미스에 있는 데이터를 어떤 필요에 의해서 클라우드에서 분석을 하고 싶을때 온프로미스에 있는 데이터를 가져오는 경우도 있는데 이때도 DMS를 쓸 수 있다.\n",
    "\n",
    "\n",
    "- DMS의 퍼포먼스는 상당히 좋은 편이다."
   ]
  },
  {
   "cell_type": "markdown",
   "metadata": {},
   "source": [
    "<img src=\"2.png\" width=\"1000\" />"
   ]
  },
  {
   "cell_type": "markdown",
   "metadata": {},
   "source": [
    "- DMS의 구성과 프로세스는 잘 알아둬야 한다. 위의 그림처럼 소스 DB의 데이터를 타겟 DB로 옮기는 프로세스이다. 조금 더 세부적으로 살펴보면 소스 DB에 있는 데이터를 소스 endpoint로 내리고 그 내린 데이터를 타겟 endpoint로 옮긴 다음에 타겟 DB에 넣어주는 프로세스이다.\n",
    "\n",
    "\n",
    "- 레플리케이션 인스턴스는 레플리케이션 테스크를 수행하면서 데이터를 소스에서 타켓으로 옮겨주는 역할을 한다. \n",
    "\n",
    "\n",
    "- 참고로 소스 DB에서 데이터를 보낼때 높은 퍼포먼스를 내기 위해 파일로 변환해서 소스 엔드포인트 쪽으로 내리게 된다. 이때 가장 문제가 되는것이 특수문자 같은게 포함되어 있으면 파일이 깨지는 문제가 발생할 수 있는데 이런 문제 때문에 가운데에 레플리카 인스턴스가 있다. 소스데이터 베이스 등록을 하고, 그 데이터 베이스의 데이터를 레플리카 인스턴스가 받았다가 타겟 데이터 베이스에 넣어주게 된다.\n",
    "\n",
    "\n",
    "- 주의해야 할점은 레플리카 인스턴스를 누군가가 사용하고 있다면 다른 사람은 그것을 사용할 수 없다. 왜냐하면 소스에서 데이터를 내리는 과정동안에는 하드웨어 자원을 지속적으로 계속 쓰고 있기 때문이다."
   ]
  },
  {
   "cell_type": "markdown",
   "metadata": {},
   "source": [
    "<img src=\"3.png\" width=\"1000\" />"
   ]
  },
  {
   "cell_type": "markdown",
   "metadata": {},
   "source": [
    "- 온프로미스에서 클라우드로 데이터를 보낼때는 위의 그림과 같다. 소스DB에 있는 데이터를 아마존 컨넥트라는 서비스를 이용해서 직접 다이렉트로 연결되는 네트워크 백본망을 구성해서 이 백본망을 이용해서 DMS 서비스를 통해 데이터를 보내주게 된다."
   ]
  },
  {
   "cell_type": "markdown",
   "metadata": {},
   "source": [
    "<img src=\"4.png\" width=\"1000\" />"
   ]
  },
  {
   "cell_type": "markdown",
   "metadata": {},
   "source": [
    "- 아니면 위의 그림처럼 클라우드 내에서 특정 리전에서 쓰던 DB를 다른 리전의 DB와 싱크를 맞추기 위해서 또는 데이터를 옮기기 위해서 쓸 수 있다."
   ]
  },
  {
   "cell_type": "markdown",
   "metadata": {},
   "source": [
    "<img src=\"5.png\" width=\"1000\" />"
   ]
  },
  {
   "cell_type": "markdown",
   "metadata": {},
   "source": [
    "- 위의 그림과 같이 같은 리전 안에서도 다른 디비에 옮길때도 쓸 수 있다."
   ]
  },
  {
   "cell_type": "markdown",
   "metadata": {},
   "source": [
    "\n",
    "\n",
    "#### AWS DMS 실습"
   ]
  },
  {
   "cell_type": "markdown",
   "metadata": {},
   "source": [
    "step 1) 먼저 레플리카 인스턴스를 띄워야 한다.\n",
    "\n",
    "서비스에 dms 검색 후 접속 -> 좌측에 레플리카 인스턴스 클릭 -> 크리에이트 레플리케이션 인스턴스 클릭"
   ]
  },
  {
   "cell_type": "markdown",
   "metadata": {},
   "source": [
    "<img src=\"6.png\" width=\"1000\" />"
   ]
  },
  {
   "cell_type": "markdown",
   "metadata": {},
   "source": [
    "step 2) 고유한 아이디를 name에 부여해주고, 인스턴스 클래스는 스몰로 해준다. 그 다음에 하단에 크리에이트 클릭"
   ]
  },
  {
   "cell_type": "markdown",
   "metadata": {},
   "source": [
    "<img src=\"7.png\" width=\"500\" />"
   ]
  },
  {
   "cell_type": "markdown",
   "metadata": {},
   "source": [
    "step 3) 크리에이트하고 나서 다른 창으로 콘솔을 하나 더 띄운다.\n",
    "\n",
    "step 4) \n",
    "\n",
    "Data를 가져올 소스는 강사님이 사전에 생성한 소스디비를 이용할 것이고,\n",
    "\n",
    "우리가 데이터를 넣을 타겟이 있어야 한다. \n",
    "\n",
    "그래서 Data를 넣을 타겟DB(오로라)를 생성해야한다.\n",
    "\n",
    "step 5) rds 서비스 들어가서 크리에이트 디비 클릭"
   ]
  },
  {
   "cell_type": "markdown",
   "metadata": {},
   "source": [
    "<img src=\"8.png\" width=\"1000\" />"
   ]
  },
  {
   "cell_type": "markdown",
   "metadata": {},
   "source": [
    "step 6) 아래 그림과 같이 설정"
   ]
  },
  {
   "cell_type": "markdown",
   "metadata": {},
   "source": [
    "<img src=\"9.png\" width=\"1000\" />"
   ]
  },
  {
   "cell_type": "markdown",
   "metadata": {},
   "source": [
    "<img src=\"10.png\" width=\"1000\" />"
   ]
  },
  {
   "cell_type": "markdown",
   "metadata": {},
   "source": [
    "step 7) 넥스트 누르고 또 아래 그림과 같이 설정해준다."
   ]
  },
  {
   "cell_type": "markdown",
   "metadata": {},
   "source": [
    "<img src=\"11.png\" width=\"1000\" />"
   ]
  },
  {
   "cell_type": "markdown",
   "metadata": {},
   "source": [
    "step 8)\n",
    "\n",
    "위에 DB instance identifier 이름과 동일하게 아래에 DB cluster identifier도 이름을 부여해준다.\n",
    "\n",
    "Database name은 얘가 creation 되었을때 어떤 스키마를 디폴트로 만들건지 물어보는 것이다. 임이의 이름을 부여해준다."
   ]
  },
  {
   "cell_type": "markdown",
   "metadata": {},
   "source": [
    "<img src=\"12.png\" width=\"1000\" />"
   ]
  },
  {
   "cell_type": "markdown",
   "metadata": {},
   "source": [
    "step 9)\n",
    "\n",
    "그리고 인크립션은 아래와 같이 디스에이블로 설정해준다.\n",
    "\n",
    "copy tags to snapshots은 체크 해제를 해준다. 이 옵션은 실제로 운영할때는 사용해야한다."
   ]
  },
  {
   "cell_type": "markdown",
   "metadata": {},
   "source": [
    "<img src=\"13.png\" width=\"1000\" />"
   ]
  },
  {
   "cell_type": "markdown",
   "metadata": {},
   "source": [
    "step 10)\n",
    "\n",
    "그 다음에 스크롤을 내리면 아래 그림과 같이 enable deletion protection은 체크 해제해준다. 이걸 체크하면 나중에 삭제할때 까다롭다.\n",
    "\n",
    "아래와 같이 설정을 해주고 크리에이트 데이터베이스 클릭"
   ]
  },
  {
   "cell_type": "markdown",
   "metadata": {},
   "source": [
    "<img src=\"14.png\" width=\"1000\" />"
   ]
  },
  {
   "cell_type": "markdown",
   "metadata": {},
   "source": [
    "step 11) RDS 대쉬보드에서 내가 부여한 아이디를 검색하면 디비가 생성된 것을 볼 수 있다.\n",
    "\n",
    "step 12) 그리고 마찬가지로 RDS 대쉬보드에서 강사님 아이디로 검색하면\n",
    "\n",
    "강사님이 사전에 만들어놓은 Data를 가져올 소스가 아래와 같이 보일 것이다. \n",
    "\n",
    "이 두개중에 Role에서 writer라고 적혀 있는 것이 강사님이 만들어놓은 소스디비의 endpoint이다.\n",
    "\n",
    "빨간색 박스친 곳을 클릭하면 거기에 접속을 위한 URL이 나와 있는데 그것을 메모장에 카피한다.\n",
    "\n",
    "포트는 3306이다. 그다음에 소스디비의 계정과 비밀번호 역시 따로 메모장에 복사해둔다.\n",
    "\n",
    "참고로 AWS에서 어떤 시스템이든 접속포인트를 전부 endpoint라고 부른다.\n",
    "\n",
    "** 주의사항\n",
    "\n",
    "소스 디비에 대한 접속정보와 타겟 디비의 접속정보를 잘 메모장에 카피를 해두고 있어야한다.\n",
    "\n",
    "1) 소스/타겟디비 접속주소(URL)\n",
    "\n",
    "2) 소스/타겟디비 사용자 아이디 (통상 AWS RDS에서는 DB identifier가 사용자 아이디다)\n",
    "\n",
    "3) 소스/타겟디비 사용자 비번\n",
    "\n",
    "4) 포트"
   ]
  },
  {
   "cell_type": "markdown",
   "metadata": {},
   "source": [
    "<img src=\"15.png\" width=\"1000\" />"
   ]
  },
  {
   "cell_type": "markdown",
   "metadata": {},
   "source": [
    "step 13) SQL 워크밴치를 이용해서 강사님이 사전에 만들어 놓은 소스 디비에 접속이 잘 되는지 테스트하는데 절차는 아래와 같다.\n",
    "\n",
    "1) 가장 상단에 connection name은 그냥 임의의 나의 아이디를 입력해준다.\n",
    "\n",
    "2) 카피한 endpoint의 URL은 Hostname에 붙여넣는다. \n",
    "\n",
    "3) 카피한 디비 아이디는 Username에 붙여넣는다.\n",
    "\n",
    "4) 포트에는 3306 입력\n",
    "\n",
    "5) 카피한 디비 비번은 store in valult... 클릭 -> 팝업창 뜨면 password에 붙여넣기 -> ok 클릭\n",
    "\n",
    "6) 하단에 테스트 컨넥션을 해서 정상적으로 접속이 되는지 확인한다."
   ]
  },
  {
   "cell_type": "markdown",
   "metadata": {},
   "source": [
    " <img src=\"16.png\" width=\"1000\" />"
   ]
  }
 ],
 "metadata": {
  "kernelspec": {
   "display_name": "Python 3",
   "language": "python",
   "name": "python3"
  },
  "language_info": {
   "codemirror_mode": {
    "name": "ipython",
    "version": 3
   },
   "file_extension": ".py",
   "mimetype": "text/x-python",
   "name": "python",
   "nbconvert_exporter": "python",
   "pygments_lexer": "ipython3",
   "version": "3.7.1"
  }
 },
 "nbformat": 4,
 "nbformat_minor": 2
}
