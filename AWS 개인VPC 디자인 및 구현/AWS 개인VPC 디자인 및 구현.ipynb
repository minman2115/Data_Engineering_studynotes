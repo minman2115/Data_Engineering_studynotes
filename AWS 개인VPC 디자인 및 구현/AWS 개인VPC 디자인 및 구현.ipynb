{
 "cells": [
  {
   "cell_type": "markdown",
   "metadata": {},
   "source": [
    "#### [실습요약]\n",
    "\n",
    "실습 1. 로드벨런서를 이용한 public subnet 내 자원 외부연결 아키텍처 구현\n",
    "\n",
    "실습 2. Multi AZ와 Public / Private Subnet을 구분한 통상적인 VPC 아키텍처 구현\n",
    "\n",
    "### 실습 1. 로드벨런서를 이용한 public subnet 내 자원 외부연결 아키텍처 구현\n",
    "\n",
    "[구현하고자 하는 아키텍처]\n",
    "\n",
    "** 기타설정\n",
    "\n",
    "1) region : seoul\n",
    "\n",
    "\n",
    "2) 가용영역 : A, C 활용"
   ]
  },
  {
   "cell_type": "markdown",
   "metadata": {},
   "source": [
    "<img src=\"0.png\" width=\"500\" />"
   ]
  },
  {
   "cell_type": "markdown",
   "metadata": {},
   "source": [
    "[실습상세]\n",
    "\n",
    "step 1) 아래그림과 같이 VPC 생성"
   ]
  },
  {
   "cell_type": "markdown",
   "metadata": {},
   "source": [
    "<img src=\"1.png\" width=\"1000\" />"
   ]
  },
  {
   "cell_type": "markdown",
   "metadata": {},
   "source": [
    "step 2) VPC 내 4개의 서브넷 생성"
   ]
  },
  {
   "cell_type": "markdown",
   "metadata": {},
   "source": [
    "<img src=\"4.png\" width=\"1000\" />"
   ]
  },
  {
   "cell_type": "markdown",
   "metadata": {},
   "source": [
    "step 3) 각각 서브넷 내 EC2 인스턴스 생성\n",
    "\n",
    "아래 그림과 같이 인스턴스 생성 시 '인스턴스 구성' 설정에서 네트워크에 내가 만든 VPC 선택, 서브넷은 각각의 서브넷 지정, 퍼블릭 VPC 내 인스턴스는 추가적으로 퍼블릭 IP 자동 할당 활성화 설정도 가능"
   ]
  },
  {
   "cell_type": "markdown",
   "metadata": {},
   "source": [
    "<img src=\"10.png\" width=\"1000\" />"
   ]
  },
  {
   "cell_type": "markdown",
   "metadata": {},
   "source": [
    "step 4) 로드밸런서 생성\n",
    "\n",
    "아래그림과 같이 로드밸런서까지 생성해서 퍼블릭 서브넷의 인스턴스들을 연결해주면 실습 1에서 구현하고자 하는 아키텍처를 완성할 수 있다."
   ]
  },
  {
   "cell_type": "markdown",
   "metadata": {},
   "source": [
    "<img src=\"13.png\" width=\"1000\" />"
   ]
  },
  {
   "cell_type": "markdown",
   "metadata": {},
   "source": [
    "### 실습 2. Multi AZ와 Public / Private Subnet을 구분한 통상적인 VPC 아키텍처 구현\n",
    "\n",
    "[구현하고자 하는 아키텍처]\n",
    "\n",
    "** 기타설정\n",
    "\n",
    "1) region : seoul\n",
    "\n",
    "\n",
    "2) 가용영역 : A, C 활용"
   ]
  },
  {
   "cell_type": "markdown",
   "metadata": {},
   "source": [
    "<img src=\"19.png\" width=\"1000\" />"
   ]
  },
  {
   "cell_type": "markdown",
   "metadata": {},
   "source": [
    "[실습상세]\n",
    "\n",
    "step 1) 인터넷 게이트웨이 생성 및 minman_VPC와 연결"
   ]
  },
  {
   "cell_type": "markdown",
   "metadata": {},
   "source": [
    "<img src=\"20.png\" width=\"1000\" />"
   ]
  },
  {
   "cell_type": "markdown",
   "metadata": {},
   "source": [
    "step 2) 퍼블릭 라우팅 생성"
   ]
  },
  {
   "cell_type": "markdown",
   "metadata": {},
   "source": [
    "<img src=\"23.png\" width=\"1000\" />"
   ]
  },
  {
   "cell_type": "markdown",
   "metadata": {},
   "source": [
    "step 3) 브라이빗 라우팅 생성"
   ]
  },
  {
   "cell_type": "markdown",
   "metadata": {},
   "source": [
    "<img src=\"31.png\" width=\"1000\" />"
   ]
  }
 ],
 "metadata": {
  "kernelspec": {
   "display_name": "Python 3",
   "language": "python",
   "name": "python3"
  },
  "language_info": {
   "codemirror_mode": {
    "name": "ipython",
    "version": 3
   },
   "file_extension": ".py",
   "mimetype": "text/x-python",
   "name": "python",
   "nbconvert_exporter": "python",
   "pygments_lexer": "ipython3",
   "version": "3.7.3"
  }
 },
 "nbformat": 4,
 "nbformat_minor": 2
}
