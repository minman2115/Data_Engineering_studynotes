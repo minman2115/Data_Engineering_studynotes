{
 "cells": [
  {
   "cell_type": "markdown",
   "metadata": {},
   "source": [
    "학습 시 참고 URL : \n",
    "\n",
    "1) http://blog.naver.com/PostView.nhn?blogId=cws87&logNo=100173548825\n",
    "\n",
    "2) https://technote.kr/156\n",
    "\n",
    "\n",
    "#### # 문제인식 : \n",
    "\n",
    "#### 우분투 운영체제에서 디스크 용량이 부족하다는 경고메시지 알림이 뜬다. \n",
    "\n",
    "#### 그래서 우분투의 용량을 기존의 20기가에서 25기가로 늘리고 싶다.\n",
    "\n",
    "#### # 수행과정 : \n",
    "\n",
    "step1) 기존의 20기가짜리 가상디스크 Ubuntu.vdi를 똑같은 걸로 하나 복사해서 그 복사한 Ubuntu2.vdi를 싸이즈를 25기가로 늘려주는 작업을 수행한다.\n",
    "\n",
    "먼저 관리자 권한으로 명령 프롬프트 실행한다.\n",
    "\n",
    "늘리고자하는 가상디스크가 있는 Ubuntu.vdi 파일이 있는 폴더로 이동을 해준다. \n",
    "\n",
    "경로는 C:\\Users\\minman\\VirtualBox VMs\\Ubuntu 다\n",
    "\n",
    "그 다음에 두번째 명령어처럼 작성해서 실행하면 Ubuntu2.vdi 가 생성된다.\n",
    "\n",
    "그리고 세번째 명령어를 작성해서 실행한다.\n",
    "\n",
    "그러면 Ubuntu2.vdi가 기존에 20기가에서 25기가로 늘어난다."
   ]
  },
  {
   "cell_type": "markdown",
   "metadata": {},
   "source": [
    "<img src=\"1.png\" width=\"1000\" />"
   ]
  },
  {
   "cell_type": "markdown",
   "metadata": {},
   "source": [
    "참고로 두번째 명령어 없이 바로 세번째 명령어를 실행하게 되면 아래와 같은 오류가 발생한다. \n",
    "\n",
    "그래서 똑같은 걸로 하나 복사해서 용량을 늘려주고 그거를 활용하는 이유다.\n",
    "\n",
    "오류가 나는 원인은 http://blog.naver.com/PostView.nhn?blogId=cws87&logNo=100173548825 URL의 글을 참고한다."
   ]
  },
  {
   "cell_type": "markdown",
   "metadata": {},
   "source": [
    "<img src=\"1-1.png\" width=\"1000\" />"
   ]
  },
  {
   "cell_type": "markdown",
   "metadata": {},
   "source": [
    "step2) 버츄얼박스 접속해서 가상환경 설정에서 들간다음에 아래와 같이 기존의 Ubuntu.vdi를 Ubuntu2.vdi로 교체해준다."
   ]
  },
  {
   "cell_type": "markdown",
   "metadata": {},
   "source": [
    "<img src=\"1-2.png\" width=\"1000\" />"
   ]
  },
  {
   "cell_type": "markdown",
   "metadata": {},
   "source": [
    "step 3) \n",
    "\n",
    "가상 하드 디스크 자체는 커졌지만 하드 디스크 내의 파티션은 그대로이기 때문에 파티션 또한 늘려주어야 한다. 현재 부팅해서 사용되고 있는 하드 디스크의 파티션을 변경하는 것은 위험하기 때문에 Ubuntu 설치시 사용하였던 CD(ISO)로 부팅해서 가상 하드 디스크의 파티션을 변경해 주어야 한다. \n",
    "\n",
    "https://technote.kr/156 URL 글 참고\n",
    "\n",
    "그래서 버츄얼박스에서 ISO로 부팅하기 위한 작업을 아래 그림과 같이 해준다."
   ]
  },
  {
   "cell_type": "markdown",
   "metadata": {},
   "source": [
    "<img src=\"2.png\" width=\"1000\" />"
   ]
  },
  {
   "cell_type": "markdown",
   "metadata": {},
   "source": [
    "그런다음에 버츄얼 우분투를 부팅하면 아래와 같은 그림이 나오는데 try ubuntu를 클릭해준다."
   ]
  },
  {
   "cell_type": "markdown",
   "metadata": {},
   "source": [
    "<img src=\"3.png\" width=\"1000\" />"
   ]
  },
  {
   "cell_type": "markdown",
   "metadata": {},
   "source": [
    "그러면 아래 그림과 같이 바탕화면이 나오는데 그 다음에 터미널을 열어서 아래 그림과 같이 sudo gparted 명령어를 입력해준다.\n",
    "\n",
    "그러면 gparted 창이 뜰것이다."
   ]
  },
  {
   "cell_type": "markdown",
   "metadata": {},
   "source": [
    "<img src=\"4.png\" width=\"1000\" />"
   ]
  },
  {
   "cell_type": "markdown",
   "metadata": {},
   "source": [
    "25GB는 고정된 값으로 실제 리눅스에서 사용하는 /dev/sda1에 대해서 23GB로 늘려주었다. \n",
    "(나머지 2GB는 swap partition용으로 설정.)\n",
    "\n",
    "아래 그림처럼 용량을 조절해주면 된다."
   ]
  },
  {
   "cell_type": "markdown",
   "metadata": {},
   "source": [
    "<img src=\"5.png\" width=\"1000\" />"
   ]
  },
  {
   "cell_type": "markdown",
   "metadata": {},
   "source": [
    "그러면 모든 절차가 완료되고, \"All operations successfully completed\"라는 메세지를 확인할 수 있다."
   ]
  },
  {
   "cell_type": "markdown",
   "metadata": {},
   "source": [
    "<img src=\"6.png\" width=\"1000\" />"
   ]
  },
  {
   "cell_type": "markdown",
   "metadata": {},
   "source": [
    "그리고 재부팅하보면 우분투의 용량이 20기가에서 23기가로 늘어난 것을 확인할 수 있다.\n",
    "\n",
    "마지막으로 용량절약을 위해 앞으로는 안쓸 Ubuntu.vdi 는 삭제해준다."
   ]
  }
 ],
 "metadata": {
  "kernelspec": {
   "display_name": "Python 3",
   "language": "python",
   "name": "python3"
  },
  "language_info": {
   "codemirror_mode": {
    "name": "ipython",
    "version": 3
   },
   "file_extension": ".py",
   "mimetype": "text/x-python",
   "name": "python",
   "nbconvert_exporter": "python",
   "pygments_lexer": "ipython3",
   "version": "3.7.3"
  }
 },
 "nbformat": 4,
 "nbformat_minor": 2
}
