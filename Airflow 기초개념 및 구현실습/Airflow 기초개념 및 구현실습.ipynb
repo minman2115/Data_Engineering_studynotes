{
 "cells": [
  {
   "cell_type": "markdown",
   "metadata": {},
   "source": [
    "Data_Engineering_TIL_(20190420)\n",
    "\n",
    "\n",
    "#### [학습목표]\n",
    "\n",
    "\n",
    "- 데이터 파이프라인 개요 이해\n",
    "\n",
    "\n",
    "- Apache Airflow 기초개념 이해\n",
    "\n",
    "\n",
    "#### [학습기록]\n",
    "\n",
    "- 실무관련 팁 \n",
    "\n",
    "GCP Big Query는 장점이 많은 툴이라 실무에서도 쓰기 좋다.\n",
    "\n",
    "200 lines 정도 되고 10기가가 넘어가는 데이터도 쿼리도 빠르게 돌아감, 신입 팀원들도 어렵지 않게 수정하고 실행함. 그리고 데이터 용량 1기가바이트 당 5원씩 정도로 상당히 저렴함\n",
    "\n",
    "실제 스파크 클러스터를 구축해서 저런 쿼리를 날리는 비용과 비교했을때 매우 저렴함고 편리하다고 할 수 있다.\n",
    "\n",
    "보통 저런 200 lines 정도 되고 10기가가 넘어가는 데이터를 쿼리하려면 적어도 4~5개의 클러스터를 구성하고 컴퓨팅을 해야하는데 코스팅이 많이 든다. \n",
    "\n",
    "ETL 관리는 정말 어렵고 비용이 많이 들기 때문에 이런 Big query이 view를 활용하면 상당히 이점이 있다.\n",
    "\n",
    "SQL의 view 쿼리 같은것도 빅쿼리에서 자유롭게 할 수 있다. \n",
    "\n",
    "view란\n",
    "\n",
    "가상 테이블로 특정 데이터만 보고자 할때 사용한다. 실제 데이터를 저장하고 있지는 않다. 한마디로 특정컬럼의 데이터를 보여주는 역할만 한다. 뷰를 사용 함으로 쿼리를 더 단순하게 만들수 있다. 한번 생성된 뷰는 수정이 불가능 하며 인덱스설정이 불가능하다.\n",
    "\n",
    "view 문법\n",
    "\n",
    "CREATE VIEW <뷰이름> AS\n",
    "\n",
    "(QUERY)\n",
    "\n",
    "view 사용 예시\n",
    "\n",
    "(국가코드와 국가이름이 있는 뷰 생성하고 싶을때)\n",
    "\n",
    "CREATE VIEW code_name AS\n",
    "\n",
    "SELECT code, name\n",
    "\n",
    "FROM country\n",
    "\n",
    "\n",
    "- 구글 클라우드 플랫폼 Data proc의 활용방안\n",
    "\n",
    "제플린이나 주피터를 띄워서 분석하는 클러스터를 만들 수 있다. 스파크 submit 했던 것 처럼 잡을 등록해서 실행하는 용도로 쓸 수도 있는 등 다양한 활용방법이 있다. \n",
    "\n",
    "\n",
    "- 구글의 pub/sub은 카프카랑 유사한 툴이라고 보면 된다. 펍섭으로 데이터를 모아서, 람다 아키텍처를 안쓰고 스트리밍 처리해서 빅쿼리에 저장해놓고 빅쿼리에서 분석할 수 있다.\n",
    "\n",
    "\n",
    "- 데이터 파이프라인 개요\n",
    "\n",
    "과거에는 데이터를 모으고, 분석하던 비교적 단순한 과정이었으나, 현재는 훨씬 복잡졌다. 예를 들어서 여러군데에서 데이터를 조합하고 변환하거나, 처리된 데이터를 다시 파이프에 넣는다거나, 배치처리, 스트리밍 등 이런 복잡한 작업을 하기위해 안정적으로 복잡한 작업들을 처리할 수 있는 시스템이 필요해졌다. \n",
    "\n",
    "다시말하면\n",
    "\n",
    "통상 데이터 ETL(Extract, Transform, Load) 과정을 통해 머신러닝 모델을 위한 Dataset을 만드는 경우가 많다. 또한 다양한 데이터베이스를 사용할 경우 한곳으로 모아서 작업을 해야하는 경우가 있다. 여러개의 앞단의 output이 뒷단의 input이 되는 Sequential한 로직이 존재하는데 이런 로직들을 한번에 관리할 필요가 있다.\n",
    "\n",
    "그래서 이렇게 관리할 로직이 적다면 크론텝 등을 활용하여 서버에 직접 접속해 디버깅 하는 방식으로 사용할 수 있기는 하지만 점점 관리할 태스크들이 많아지면 헷갈리는 경우가 생겨 관리의 어려움이 많기 때문에 나온 아이디어로 만든 툴이라고 할 수 있다.\n",
    "\n",
    "Airflow는 Python으로 코드를 작성할 수 있기 때문에 데이터 분석을 하는 사람들이 쉽게 코드를 작성할 수 있는 장점이 있다.\n",
    "\n",
    "Airflow 콘솔이 따로 존재해 Task 관리를 서버에서 들어가 관리하지 않아도 되고, 각 작업별 시간이 나오기 때문에 bottleneck을 찾을 때에도 유용하다. 또한 GCP의 BigQuery나 Dataflow에 접근 할 수 있도록 잘 구성되어 있다.\n",
    "\n",
    "\n",
    "- Apache Airflow\n",
    "\n",
    "#### 쉽게 말해서 data 처리 플로우 관리 툴이다.\n",
    "\n",
    "1) Airbnb에서 개발한 오픈소스 프로젝트\n",
    "\n",
    "2) Workflow를 Directed Acyclic Graphs (DAG) 로 표현\n",
    "\n",
    "DAG은 그래프인데 진행방향이 있는 그래프를 말한다.\n",
    "\n",
    "통상 에어플로우에서 DAG은 task들의 묶음이라고 생각하면 된다.\n",
    "\n",
    "3) 순차적으로 연결된 작업을 실행하거나 상태를 감시하는 도구들을 구현\n",
    "\n",
    "4) 많이 쓰이는 데이터소스나 시스템(슬랙 등)과 연동 가능한 Python으로 된 컴포넌트들을 제공\n",
    "\n",
    "5) Scalable한 클러스터로 구동\n",
    "\n",
    "에어플로우도 클러스터가 있다.\n",
    "\n",
    "클러스터에서 계산을 하거나 작업을 해야하는 task가 있을 수 있다.\n",
    "\n",
    "무언가 큰 계산을 하거나 머신러닝을 할때 부하가 에어플로우 컴퓨터에 몰리면 안되기 때문이다. \n",
    "\n",
    "\n",
    "- 에어플로우 인터페이스\n",
    "\n",
    "1) 웹 콘솔에서 사용하는 방법\n",
    "\n",
    "\n",
    "2) 커멘드라인으로 사용하는 방법\n",
    "\n",
    "\n",
    "#### [실습프리뷰]\n",
    "\n",
    "#### 실습1) 에어플로우 튜토리얼 실습\n",
    "\n",
    "\n",
    "#### 실습2) 에어플로우상에서 슬랙을 이용한 에러메시지 알림시스템 구현실습\n",
    "\n",
    "#### [실습 상세내용]\n",
    "\n",
    "### 실습1) 에어플로우 튜토리얼 실습\n",
    "\n",
    "#### STEP1) airflow를 설치하고 구동한다. (아래 그림 참고)\n",
    "\n",
    "관련 URL : airflow.apache.org/start.html\n",
    "\n",
    "1-1) 터미널 열어서 pip install로 설치해준다.\n",
    "\n",
    "1-2) airflow initdb 명령어 실행\n",
    "\n",
    "DB를 초기화 하는 명령어\n",
    "\n",
    "1-3) airflow webserver -p 8080 명령어 실행\n",
    "\n",
    "웹서버와 스케쥴러를 별도로 실행해줘야 한다.\n",
    "\n",
    "1-4) 터미널을 새로하나 열어서 airflow scheduler 명령어 실행\n",
    "\n",
    "1-5) 웹브라우저를 하나열어서 localhost:8080 으로 접속해서 아래 그림과 같이 웹콘솔이 잘 뜨는지 확인"
   ]
  },
  {
   "cell_type": "markdown",
   "metadata": {},
   "source": [
    "<img src=\"1.png\" width=\"1000\" />"
   ]
  },
  {
   "cell_type": "markdown",
   "metadata": {},
   "source": [
    "#### STEP2) 간단한 파이썬 코드를 작성하여 DAG폴더에 적재하기\n",
    "\n",
    "에어플로우 작동을 위한 파이썬 코드를 작성하여 DAG폴더에 올려주면 실행가능한 형태가 된다.\n",
    "\n",
    "활용할 코드관련 URL : https://airflow.apache.org/tutorial.html\n",
    "\n",
    "그래서 먼저 tutorial.py를 생성해주고 아래의 코드를 복붙해준다."
   ]
  },
  {
   "cell_type": "code",
   "execution_count": null,
   "metadata": {},
   "outputs": [],
   "source": [
    "\"\"\"\n",
    "Code that goes along with the Airflow tutorial located at:\n",
    "https://github.com/apache/airflow/blob/master/airflow/example_dags/tutorial.py\n",
    "\"\"\"\n",
    "from airflow import DAG\n",
    "from airflow.operators.bash_operator import BashOperator\n",
    "from datetime import datetime, timedelta\n",
    "\n",
    "# 아래는 여러가지 설정\n",
    "default_args = {\n",
    "    'owner': 'airflow',\n",
    "    'depends_on_past': False,\n",
    "    'start_date': datetime(2015, 6, 1),\n",
    "    # 이거를 명시해놓으면 명시해 놓은 특정 날짜부터 task를 시행한다.\n",
    "    # 2015. 6. 1.부터 시행한다.\n",
    "    'email': ['airflow@example.com'],\n",
    "    'email_on_failure': False,\n",
    "    'email_on_retry': False,\n",
    "    'retries': 1,\n",
    "    'retry_delay': timedelta(minutes=5),\n",
    "    # 'queue': 'bash_queue',\n",
    "    # 'pool': 'backfill',\n",
    "    # 'priority_weight': 10,\n",
    "    # 'end_date': datetime(2016, 1, 1),\n",
    "}\n",
    "\n",
    "dag = DAG('tutorial', default_args=default_args, schedule_interval=timedelta(days=1))\n",
    "# dag 아이디 및 각종정보설정\n",
    "# schedule_interval의 옵션은 여러가지이다. schedule_interval=timedelta(days=1) 이런식으로 넣어줘도 되고,\n",
    "# cron expression도 가능하다.  \n",
    "\n",
    "# t1, t2 and t3 are examples of tasks created by instantiating operators\n",
    "# 각각의 작업 선언\n",
    "# 배시오퍼레이터는 배시쉘에서 간단한 베시커멘드를 수행하는 작업을 말한다. \n",
    "t1 = BashOperator(\n",
    "    task_id='print_date',\n",
    "    bash_command='date',\n",
    "    dag=dag)\n",
    "\n",
    "t2 = BashOperator(\n",
    "    task_id='sleep',\n",
    "    bash_command='sleep 5',\n",
    "    retries=3,\n",
    "    dag=dag)\n",
    "\n",
    "# 에어플로우의 템플릿 기능\n",
    "# 이부분은 베시셸에서는 명령어가 먹지는 않고, 에어플로우에서 처리해주는 부분이다.\n",
    "templated_command = \"\"\"\n",
    "    {% for i in range(5) %}\n",
    "        echo \"{{ ds }}\"\n",
    "        echo \"{{ macros.ds_add(ds, 7)}}\"\n",
    "        echo \"{{ params.my_param }}\"\n",
    "    {% endfor %}\n",
    "\"\"\"\n",
    "\n",
    "t3 = BashOperator(\n",
    "    task_id='templated',\n",
    "    bash_command=templated_command,\n",
    "    params={'my_param': 'Parameter I passed in'},\n",
    "    dag=dag)\n",
    "\n",
    "# 테스크간의 dependency 설정\n",
    "t2.set_upstream(t1)\n",
    "t3.set_upstream(t1)"
   ]
  },
  {
   "cell_type": "markdown",
   "metadata": {},
   "source": [
    "위의 코드에서 set_upstream은 아래 그림처럼 task 간의 DAG를 셋팅해주는 것을 말한다.\n",
    "\n",
    "t1이 먼저 실행되고, 그 다음에 t2, t3 이렇게 실행된다."
   ]
  },
  {
   "cell_type": "markdown",
   "metadata": {},
   "source": [
    "<img src=\"2.png\" width=\"300\" />"
   ]
  },
  {
   "cell_type": "markdown",
   "metadata": {},
   "source": [
    "#### 그래서 그 다음에 터미널을 하나 열어준다.\n",
    "\n",
    "~/airflow 폴더로 이동해서 dags 이라는 이름의 폴더를 하나 생성해준다.\n",
    "\n",
    "dags 폴더로 이동한다.\n",
    "\n",
    "vi tutorial.py 를 실행해준다. 그 다음에 위의 코드를 복붙해준다. \n",
    "\n",
    "그리고 dag = DAG('tutorial' .. 의 코드에서 tutorial 만 minman으로 바꿔준다.\n",
    "\n",
    "dag = DAG('minman' ..\n",
    "\n",
    "그리고 저장한 다음에 python tutorial.py 명령어를 실행해준다.\n",
    "\n",
    "아무것도 안뜨면 잘 실행이 된 것이다.\n",
    "\n",
    "그리고 airflow list_dags로 DAGS 목록에 minman이 들어가 있나 확인해본다."
   ]
  },
  {
   "cell_type": "markdown",
   "metadata": {},
   "source": [
    "<img src=\"3.png\" width=\"1000\" />"
   ]
  },
  {
   "cell_type": "markdown",
   "metadata": {},
   "source": [
    "airflow list_tasks tutorial_1 --tree 명령어를 입력하여 트리형태로도 확인해본다.\n",
    "\n",
    "아래의 그림처럼 print_date, sleep, templated 3개의 태스크 확인"
   ]
  },
  {
   "cell_type": "markdown",
   "metadata": {},
   "source": [
    "<img src=\"4.png\" width=\"1000\" />"
   ]
  },
  {
   "cell_type": "markdown",
   "metadata": {},
   "source": [
    "#### STEP3) 이제 에어플로우를 실행을 해볼차례이다.\n",
    "\n",
    "통상 DAG 전체를 실행하기전에 task 하나하나가 잘 작동되는지 먼저 확인한다.\n",
    "\n",
    "터미널에서 airflow test tutorial print_date 2015-06-01 명령어를 입력하여 아래 그림과 같이 정상적으로 출력이 되는지 확인한다.\n",
    "\n",
    "print_date 테스크는 베시쉘에서 date 정보를 출력한다."
   ]
  },
  {
   "cell_type": "markdown",
   "metadata": {},
   "source": [
    "<img src=\"5.png\" width=\"1000\" />"
   ]
  },
  {
   "cell_type": "markdown",
   "metadata": {},
   "source": [
    "그 다음에 testing sleep task가 잘 되는지도 확인하고자\n",
    "\n",
    "airflow test tutorial sleep 2015-06-01 명령어도 실행해서 확인해보고,\n",
    "\n",
    "(실행결과는 아래 그림과 같다)"
   ]
  },
  {
   "cell_type": "markdown",
   "metadata": {},
   "source": [
    "<img src=\"5-2.png\" width=\"1000\" />"
   ]
  },
  {
   "cell_type": "markdown",
   "metadata": {},
   "source": [
    "airflow test tutorial templated 2015-06-01 명령어도 실행하여 templated_command 결과가 정상적으로 나오는지 확인해본다.\n",
    "\n",
    "(실행결과는 아래와 같음)"
   ]
  },
  {
   "cell_type": "markdown",
   "metadata": {},
   "source": [
    "<img src=\"5-3.png\" width=\"1000\" />"
   ]
  },
  {
   "cell_type": "markdown",
   "metadata": {},
   "source": [
    "#### STEP4) \n",
    "\n",
    "터미널에서 airflow backfill minman -s 2015-06-01 -e 2015-06-07 을 실행하여 아래 그림과 같이 잘 출력이 되는지 확인한다.\n",
    " \n",
    "start_date를 현재날자보다 과거로 설정하면, backfill(과거 데이터를 채워넣는 액션)이 진행된다.\n",
    "\n",
    "위의 명령어에서 -s 옵션은 스타트를 의미하고 -e옵션은 엔드를 의미한다.\n",
    "\n",
    "아래 결과출력을 자세히보면 backfill 기능을 통해서 날짜를 2015-06-01부터 2015-06-07까지 넣게된다. airflow, run, minman, 2015-06-02 등의 작업들이 하나의 덩어리로 큐 단위로 넣어지게 된다."
   ]
  },
  {
   "cell_type": "markdown",
   "metadata": {},
   "source": [
    "<img src=\"6.png\" width=\"1000\" />"
   ]
  },
  {
   "cell_type": "markdown",
   "metadata": {},
   "source": [
    "#### STEP5) 웹 콘솔에서도 확인해본다. 실행이 잘 되었는지"
   ]
  },
  {
   "cell_type": "markdown",
   "metadata": {},
   "source": [
    "<img src=\"7.png\" width=\"1000\" />"
   ]
  },
  {
   "cell_type": "markdown",
   "metadata": {},
   "source": [
    "참고로 아래 그림처럼 해당버튼을 누르면 위에서 실행한 backfill을 실행한 것과 동일하다."
   ]
  },
  {
   "cell_type": "markdown",
   "metadata": {},
   "source": [
    "<img src=\"8.png\" width=\"1000\" />"
   ]
  },
  {
   "cell_type": "markdown",
   "metadata": {},
   "source": [
    "그리고 아래 그림처럼 온오프 스위치를 눌러주면 크론텝과 유사하게 정해진 시간에 작업을 실시하는 스케쥴링 같은 기능도 설정 할 수 있다."
   ]
  },
  {
   "cell_type": "markdown",
   "metadata": {},
   "source": [
    "<img src=\"9.png\" width=\"1000\" />"
   ]
  },
  {
   "cell_type": "markdown",
   "metadata": {},
   "source": [
    "- 기타 각종 에어플로우 명령어 정리"
   ]
  },
  {
   "cell_type": "markdown",
   "metadata": {},
   "source": [
    "<img src=\"9-2.png\" width=\"1000\" />"
   ]
  },
  {
   "cell_type": "markdown",
   "metadata": {},
   "source": [
    "<img src=\"9-3.png\" width=\"1000\" />"
   ]
  },
  {
   "cell_type": "markdown",
   "metadata": {},
   "source": [
    "### 실습2) 에어플로우상에서 슬랙을 이용한 에러메시지 알림시스템 구현실습\n",
    "\n",
    "실습내용 관련 URL : https://medium.com/datareply/integrating-slack-alerts-in-airflow-c9dcd155105\n",
    "\n",
    "#### STEP1)\n",
    "\n",
    "https://api.slack.com/custom-integrations/legacy-tokens 로 접속해서 내가 원하는 슬랙채널의 토근을 생성해준다.\n",
    "\n",
    "#### STEP2)\n",
    "\n",
    "터미널 하나 열어서 pip install apache-airflow[slack] 를 실행\n",
    "\n",
    "#### STEP3)\n",
    "\n",
    "airflow/dags 에서 tutorial_error_slack.py 파일 생성 \n",
    "\n",
    "코드내용은 아래와 같음"
   ]
  },
  {
   "cell_type": "code",
   "execution_count": null,
   "metadata": {},
   "outputs": [],
   "source": [
    "\"\"\"\n",
    "Code that goes along with the Airflow tutorial located at:\n",
    "https://github.com/apache/airflow/blob/master/airflow/example_dags/tutorial.py\n",
    "\"\"\"\n",
    "from airflow import DAG\n",
    "from airflow.operators.bash_operator import BashOperator\n",
    "from datetime import datetime, timedelta\n",
    "\n",
    "from airflow.hooks.base_hook import BaseHook\n",
    "\n",
    "from airflow.operators.slack_operator import SlackAPIPostOperator\n",
    "\n",
    "def slack_failed_task(context):  \n",
    "    failed_alert = SlackAPIPostOperator(\n",
    "        task_id='slack_failed',\n",
    "        channel=\"#dss\",\n",
    "        token=\"획득한토큰삽입\",\n",
    "        text = ':red_circle: Task Failed',\n",
    "        username = 'airflow',)\n",
    "    return failed_alert.execute(context=context)\n",
    "\n",
    "\n",
    "default_args = {\n",
    "    'owner': 'airflow',\n",
    "    'depends_on_past': False,\n",
    "    'start_date': datetime(2015, 6, 1),\n",
    "    'email': ['airflow@example.com'],\n",
    "    'email_on_failure': False,\n",
    "    'email_on_retry': False,\n",
    "    'retries': 0,\n",
    "    'retry_delay': timedelta(seconds=30),\n",
    "    # 'queue': 'bash_queue',\n",
    "    # 'pool': 'backfill',\n",
    "    # 'priority_weight': 10,\n",
    "    # 'end_date': datetime(2016, 1, 1),\n",
    "}\n",
    "\n",
    "dag = DAG('tutorial_error_slack', default_args=default_args, schedule_interval=timedelta(days=1))\n",
    "\n",
    "# t1, t2 and t3 are examples of tasks created by instantiating operators\n",
    "t1 = BashOperator(\n",
    "    task_id='print_date',\n",
    "    bash_command='exit 123',\n",
    "    provide_context=True,\n",
    "    on_failure_callback=slack_failed_task,\n",
    "    dag=dag)\n",
    "# 위에 bash_command에서 exit 0은 성공적으로 실행이 된것이라는 신호이고,\n",
    "# 0이 아닌 수 예를들어 exit 1이나 exit 123 같은 것들은 이 명령어를 실행하면\n",
    "# bash command가 실행을 실패한 것으로 처리를 해준다.\n",
    "# 이렇게 배쉬커멘드가 실행 실패를 하면서 on_faulure_callback이 처리가 되는것이다.\n",
    "\n",
    "t2 = BashOperator(\n",
    "    task_id='sleep',\n",
    "    bash_command='sleep 5',\n",
    "    retries=3,\n",
    "    dag=dag)\n",
    "\n",
    "templated_command = \"\"\"\n",
    "    {% for i in range(5) %}\n",
    "        echo \"{{ ds }}\"\n",
    "        echo \"{{ macros.ds_add(ds, 7)}}\"\n",
    "        echo \"{{ params.my_param }}\"\n",
    "    {% endfor %}\n",
    "\"\"\"\n",
    "\n",
    "t3 = BashOperator(\n",
    "    task_id='templated',\n",
    "    bash_command=templated_command,\n",
    "    params={'my_param': 'Parameter I passed in'},\n",
    "    dag=dag)\n",
    "\n",
    "t2.set_upstream(t1)\n",
    "t3.set_upstream(t1)"
   ]
  },
  {
   "cell_type": "markdown",
   "metadata": {},
   "source": [
    "#### STEP4)\n",
    "\n",
    "터미널에서 python tutorial_error_slack.py 명령어 실행\n",
    "\n",
    "실행이 완료되면 airflow backfill tutorial_error_slack -s 2015-06-01 -e 2015-06-07 명령어 실행\n",
    "\n",
    "그리고 슬랙에 위에 설정한 지정된 채널로 접속하면 아래 그림과 같은 메세지가 수신되었을 것이다."
   ]
  },
  {
   "cell_type": "markdown",
   "metadata": {},
   "source": [
    "<img src=\"10.png\" width=\"1000\" />"
   ]
  }
 ],
 "metadata": {
  "kernelspec": {
   "display_name": "Python 3",
   "language": "python",
   "name": "python3"
  },
  "language_info": {
   "codemirror_mode": {
    "name": "ipython",
    "version": 3
   },
   "file_extension": ".py",
   "mimetype": "text/x-python",
   "name": "python",
   "nbconvert_exporter": "python",
   "pygments_lexer": "ipython3",
   "version": "3.7.1"
  }
 },
 "nbformat": 4,
 "nbformat_minor": 2
}
