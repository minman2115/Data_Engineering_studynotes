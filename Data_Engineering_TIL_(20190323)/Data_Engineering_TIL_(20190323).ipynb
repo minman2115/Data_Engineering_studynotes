{
 "cells": [
  {
   "cell_type": "markdown",
   "metadata": {},
   "source": [
    "Apache Spark practice\n",
    "\n",
    "\n",
    "#### [학습목표]\n",
    "\n",
    "- Apache Spark 기초실습\n",
    "\n",
    "\n",
    "#### [학습기록]\n",
    "\n",
    "\n",
    "- SQL은 쿼리를 수정하거나 개선할때 어렵고, 쓸때없이 길어질 수 있지만 반면에 spark dataframe는 프로그래밍 코드로 되어 있기 때문에 이 코드들을 재활용하거나 조합하는등 조금 더 유연하다고 할 수 있음\n",
    "\n",
    "\n",
    "- 데이터 분석 시 액셀을 많이 활용하므로 자유롭게 다룰 수 있어야 한다. 데이터의 용량이 크지 않은경우는 사실상 액셀로 모든 분석을 다 할 수 있다고 말할 수 있다. 20 ~ 30MB, 로우는 1만개 ~ 10만개까지는 액셀이 커버 가능하기 때문에 액셀을 쓰고, 수백메가바이트 정도의 데이터는 로컬에서 파이썬 판다스나 스파크 데이터 프레임으로 데이터를 돌리게되고, 그 이상이만 여러대로 처리한다.\n",
    "\n",
    "\n",
    "- 예를 들어서 왕좌의 게임 데이터에서 어느 가문이 가장 많이 등장하는가를 산출하고자 할 때는 이런게 결국에는 집계하는 것이다. 어떠한 기준으로 데이터를 뭉쳐서 산출하자는 것인데 SQL로 치면 group by sum 등을 하는 것이다. 집계기능은 액셀에서는 피벗테이블이라는 강력한 도구를 제공한다."
   ]
  },
  {
   "cell_type": "markdown",
   "metadata": {},
   "source": [
    "#### [ 왕좌의 게임 등장인물 데이터를 활용한 아파치 스파크 실습 ]\n",
    "\n",
    "- 데이터 관련 URL : https://www.kaggle.com/mylesoneill/game-of-thrones/data"
   ]
  },
  {
   "cell_type": "code",
   "execution_count": 1,
   "metadata": {},
   "outputs": [
    {
     "name": "stdout",
     "output_type": "stream",
     "text": [
      "+--------------------+---------------+----------+-------------+-------------+------------------+------+--------+---+---+---+---+---+\n",
      "|                Name|    Allegiances|Death Year|Book of Death|Death Chapter|Book Intro Chapter|Gender|Nobility|GoT|CoK|SoS|FfC|DwD|\n",
      "+--------------------+---------------+----------+-------------+-------------+------------------+------+--------+---+---+---+---+---+\n",
      "|      Addam Marbrand|      Lannister|      null|         null|         null|                56|     1|       1|  1|  1|  1|  1|  0|\n",
      "|Aegon Frey (Jingl...|           None|       299|            3|           51|                49|     1|       1|  0|  0|  1|  0|  0|\n",
      "|     Aegon Targaryen|House Targaryen|      null|         null|         null|                 5|     1|       1|  0|  0|  0|  0|  1|\n",
      "|       Adrack Humble|  House Greyjoy|       300|            5|           20|                20|     1|       1|  0|  0|  0|  0|  1|\n",
      "|      Aemon Costayne|      Lannister|      null|         null|         null|              null|     1|       1|  0|  0|  1|  0|  0|\n",
      "|     Aemon Estermont|      Baratheon|      null|         null|         null|              null|     1|       1|  0|  1|  1|  0|  0|\n",
      "|Aemon Targaryen (...|  Night's Watch|       300|            4|           35|                21|     1|       1|  1|  0|  1|  1|  0|\n",
      "|          Aenys Frey|           None|       300|            5|         null|                59|     0|       1|  1|  1|  1|  0|  1|\n",
      "|       Aeron Greyjoy|  House Greyjoy|      null|         null|         null|                11|     1|       1|  0|  1|  0|  1|  0|\n",
      "|              Aethan|  Night's Watch|      null|         null|         null|                 0|     1|       0|  0|  0|  1|  0|  0|\n",
      "|               Aggar|  House Greyjoy|       299|            2|           56|                50|     1|       0|  0|  1|  0|  0|  0|\n",
      "|                Aggo|House Targaryen|      null|         null|         null|                54|     1|       0|  1|  1|  1|  0|  1|\n",
      "|       Alan of Rosby|  Night's Watch|       300|            5|            4|                18|     1|       1|  0|  1|  1|  0|  1|\n",
      "|             Alayaya|           None|      null|         null|         null|                15|     0|       0|  0|  1|  0|  0|  0|\n",
      "|         Albar Royce|          Arryn|      null|         null|         null|                38|     1|       1|  1|  0|  0|  1|  0|\n",
      "|              Albett|  Night's Watch|      null|         null|         null|                26|     1|       0|  1|  0|  0|  0|  0|\n",
      "|            Alebelly|    House Stark|       299|            2|           46|                 4|     1|       0|  0|  1|  0|  0|  0|\n",
      "|    Alerie Hightower|   House Tyrell|      null|         null|         null|                 6|     0|       1|  0|  0|  1|  1|  0|\n",
      "|  Alesander Staedmon|      Baratheon|      null|         null|         null|                65|     1|       1|  0|  1|  0|  0|  0|\n",
      "|     Alester Florent|      Baratheon|       300|            4|         null|                36|     1|       1|  0|  1|  1|  0|  0|\n",
      "+--------------------+---------------+----------+-------------+-------------+------------------+------+--------+---+---+---+---+---+\n",
      "only showing top 20 rows\n",
      "\n"
     ]
    }
   ],
   "source": [
    "# 최초 spark 구동\n",
    "\n",
    "import findspark\n",
    "findspark.init(r\"C:\\Users\\minman\\Desktop\\css\\spark\\spark-2.4.0-bin-hadoop2.7\")\n",
    "# 리눅스에서는 절대경로를 넣어주면 된다\n",
    "\n",
    "import pyspark\n",
    "from pyspark.sql import SparkSession\n",
    "\n",
    "spark = SparkSession.builder.getOrCreate()\n",
    "\n",
    "data_path = r\"C:\\Users\\minman\\Downloads\\game-of-thrones\\character-deaths.csv\"\n",
    "char_death_df = spark.read.option(\"header\", \"true\").csv(data_path)\n",
    "char_death_df.show()"
   ]
  },
  {
   "cell_type": "markdown",
   "metadata": {},
   "source": [
    "#### 1) 가문별 사람 수를 group by 함수를 이용해서 출력해보기"
   ]
  },
  {
   "cell_type": "code",
   "execution_count": 2,
   "metadata": {},
   "outputs": [
    {
     "name": "stdout",
     "output_type": "stream",
     "text": [
      "+---------------+-----+\n",
      "|    Allegiances|count|\n",
      "+---------------+-----+\n",
      "|    House Stark|   35|\n",
      "|           None|  253|\n",
      "|House Baratheon|    8|\n",
      "|    House Tully|    8|\n",
      "|  House Martell|   12|\n",
      "|        Greyjoy|   51|\n",
      "|          Arryn|   23|\n",
      "|   House Tyrell|   11|\n",
      "|  House Greyjoy|   24|\n",
      "|House Targaryen|   19|\n",
      "|      Baratheon|   56|\n",
      "|      Lannister|   81|\n",
      "|      Targaryen|   17|\n",
      "|          Tully|   22|\n",
      "|        Martell|   25|\n",
      "|         Tyrell|   15|\n",
      "|    House Arryn|    7|\n",
      "|  Night's Watch|  116|\n",
      "|          Stark|   73|\n",
      "|       Wildling|   40|\n",
      "+---------------+-----+\n",
      "only showing top 20 rows\n",
      "\n"
     ]
    }
   ],
   "source": [
    "char_death_df.groupBy(\"Allegiances\").count().show()"
   ]
  },
  {
   "cell_type": "code",
   "execution_count": 3,
   "metadata": {},
   "outputs": [
    {
     "name": "stdout",
     "output_type": "stream",
     "text": [
      "+---------------+-----+\n",
      "|    Allegiances|count|\n",
      "+---------------+-----+\n",
      "|    House Stark|   35|\n",
      "|           None|  253|\n",
      "|House Baratheon|    8|\n",
      "|    House Tully|    8|\n",
      "|  House Martell|   12|\n",
      "|        Greyjoy|   51|\n",
      "|          Arryn|   23|\n",
      "|   House Tyrell|   11|\n",
      "|  House Greyjoy|   24|\n",
      "|House Targaryen|   19|\n",
      "|      Baratheon|   56|\n",
      "|      Lannister|   81|\n",
      "|      Targaryen|   17|\n",
      "|          Tully|   22|\n",
      "|        Martell|   25|\n",
      "|         Tyrell|   15|\n",
      "|    House Arryn|    7|\n",
      "|  Night's Watch|  116|\n",
      "|          Stark|   73|\n",
      "|       Wildling|   40|\n",
      "+---------------+-----+\n",
      "only showing top 20 rows\n",
      "\n"
     ]
    }
   ],
   "source": [
    "from pyspark.sql.functions import col\n",
    "\n",
    "# 아래 세줄의 코드는 모두 서로같은 표현이다.\n",
    "\n",
    "# char_death_df.groupBy(char_death_df.Allegiances).count().show()\n",
    "# char_death_df.groupBy(col(\"Allegiances\")).count().show()\n",
    "char_death_df.groupBy(char_death_df[\"Allegiances\"]).count().show()"
   ]
  },
  {
   "cell_type": "code",
   "execution_count": 4,
   "metadata": {},
   "outputs": [
    {
     "name": "stdout",
     "output_type": "stream",
     "text": [
      "+---------------+-----+\n",
      "|    Allegiances|count|\n",
      "+---------------+-----+\n",
      "|           None|  253|\n",
      "|  Night's Watch|  116|\n",
      "|      Lannister|   81|\n",
      "|          Stark|   73|\n",
      "|      Baratheon|   56|\n",
      "|        Greyjoy|   51|\n",
      "|       Wildling|   40|\n",
      "|    House Stark|   35|\n",
      "|        Martell|   25|\n",
      "|  House Greyjoy|   24|\n",
      "|          Arryn|   23|\n",
      "|          Tully|   22|\n",
      "|House Lannister|   21|\n",
      "|House Targaryen|   19|\n",
      "|      Targaryen|   17|\n",
      "|         Tyrell|   15|\n",
      "|  House Martell|   12|\n",
      "|   House Tyrell|   11|\n",
      "|    House Tully|    8|\n",
      "|House Baratheon|    8|\n",
      "+---------------+-----+\n",
      "only showing top 20 rows\n",
      "\n"
     ]
    }
   ],
   "source": [
    "# 정렬까지해서 가문별 사람 수 출력, 변수에 할당\n",
    "df1 = char_death_df.groupBy(\"Allegiances\").count()\n",
    "df1.orderBy(col(\"count\").desc()).show()"
   ]
  },
  {
   "cell_type": "markdown",
   "metadata": {},
   "source": [
    "#### 2) join 함수를 이용한 가문별 사망률 구하기"
   ]
  },
  {
   "cell_type": "code",
   "execution_count": 7,
   "metadata": {
    "scrolled": true
   },
   "outputs": [
    {
     "name": "stdout",
     "output_type": "stream",
     "text": [
      "+--------------------+---------------+----------+-------------+-------------+------------------+------+--------+---+---+---+---+---+--------+\n",
      "|                Name|    Allegiances|Death Year|Book of Death|Death Chapter|Book Intro Chapter|Gender|Nobility|GoT|CoK|SoS|FfC|DwD|is_alive|\n",
      "+--------------------+---------------+----------+-------------+-------------+------------------+------+--------+---+---+---+---+---+--------+\n",
      "|      Addam Marbrand|      Lannister|      null|         null|         null|                56|     1|       1|  1|  1|  1|  1|  0|    true|\n",
      "|Aegon Frey (Jingl...|           None|       299|            3|           51|                49|     1|       1|  0|  0|  1|  0|  0|   false|\n",
      "|     Aegon Targaryen|House Targaryen|      null|         null|         null|                 5|     1|       1|  0|  0|  0|  0|  1|    true|\n",
      "|       Adrack Humble|  House Greyjoy|       300|            5|           20|                20|     1|       1|  0|  0|  0|  0|  1|   false|\n",
      "|      Aemon Costayne|      Lannister|      null|         null|         null|              null|     1|       1|  0|  0|  1|  0|  0|    true|\n",
      "|     Aemon Estermont|      Baratheon|      null|         null|         null|              null|     1|       1|  0|  1|  1|  0|  0|    true|\n",
      "|Aemon Targaryen (...|  Night's Watch|       300|            4|           35|                21|     1|       1|  1|  0|  1|  1|  0|   false|\n",
      "|          Aenys Frey|           None|       300|            5|         null|                59|     0|       1|  1|  1|  1|  0|  1|   false|\n",
      "|       Aeron Greyjoy|  House Greyjoy|      null|         null|         null|                11|     1|       1|  0|  1|  0|  1|  0|    true|\n",
      "|              Aethan|  Night's Watch|      null|         null|         null|                 0|     1|       0|  0|  0|  1|  0|  0|    true|\n",
      "|               Aggar|  House Greyjoy|       299|            2|           56|                50|     1|       0|  0|  1|  0|  0|  0|   false|\n",
      "|                Aggo|House Targaryen|      null|         null|         null|                54|     1|       0|  1|  1|  1|  0|  1|    true|\n",
      "|       Alan of Rosby|  Night's Watch|       300|            5|            4|                18|     1|       1|  0|  1|  1|  0|  1|   false|\n",
      "|             Alayaya|           None|      null|         null|         null|                15|     0|       0|  0|  1|  0|  0|  0|    true|\n",
      "|         Albar Royce|          Arryn|      null|         null|         null|                38|     1|       1|  1|  0|  0|  1|  0|    true|\n",
      "|              Albett|  Night's Watch|      null|         null|         null|                26|     1|       0|  1|  0|  0|  0|  0|    true|\n",
      "|            Alebelly|    House Stark|       299|            2|           46|                 4|     1|       0|  0|  1|  0|  0|  0|   false|\n",
      "|    Alerie Hightower|   House Tyrell|      null|         null|         null|                 6|     0|       1|  0|  0|  1|  1|  0|    true|\n",
      "|  Alesander Staedmon|      Baratheon|      null|         null|         null|                65|     1|       1|  0|  1|  0|  0|  0|    true|\n",
      "|     Alester Florent|      Baratheon|       300|            4|         null|                36|     1|       1|  0|  1|  1|  0|  0|   false|\n",
      "+--------------------+---------------+----------+-------------+-------------+------------------+------+--------+---+---+---+---+---+--------+\n",
      "only showing top 20 rows\n",
      "\n"
     ]
    }
   ],
   "source": [
    "# withColumn과 isNull함수를 이용한 is_alive 컬럼 추가하기\n",
    "char_death_df2 = char_death_df.withColumn(\"is_alive\", col(\"Death Year\").isNull())\n",
    "char_death_df2.show()"
   ]
  },
  {
   "cell_type": "code",
   "execution_count": 8,
   "metadata": {},
   "outputs": [
    {
     "name": "stdout",
     "output_type": "stream",
     "text": [
      "+---------------+--------+-----+\n",
      "|    Allegiances|is_alive|count|\n",
      "+---------------+--------+-----+\n",
      "|          Arryn|   false|    3|\n",
      "|          Arryn|    true|   20|\n",
      "|      Baratheon|   false|   20|\n",
      "|      Baratheon|    true|   36|\n",
      "|        Greyjoy|   false|    8|\n",
      "|        Greyjoy|    true|   43|\n",
      "|    House Arryn|   false|    2|\n",
      "|    House Arryn|    true|    5|\n",
      "|House Baratheon|   false|    4|\n",
      "|House Baratheon|    true|    4|\n",
      "|  House Greyjoy|   false|   14|\n",
      "|  House Greyjoy|    true|   10|\n",
      "|House Lannister|   false|   12|\n",
      "|House Lannister|    true|    9|\n",
      "|  House Martell|   false|    1|\n",
      "|  House Martell|    true|   11|\n",
      "|    House Stark|   false|   19|\n",
      "|    House Stark|    true|   16|\n",
      "|House Targaryen|   false|    4|\n",
      "|House Targaryen|    true|   15|\n",
      "+---------------+--------+-----+\n",
      "only showing top 20 rows\n",
      "\n"
     ]
    }
   ],
   "source": [
    "# \"Allegiances\", \"is_alive\" 컬럼을 이용한 result_df 피벗테이블 만들기\n",
    "result_df = char_death_df2.groupBy(\"Allegiances\", \"is_alive\") \\\n",
    "    .count().orderBy(\"Allegiances\", \"is_alive\")\n",
    "\n",
    "result_df.show()"
   ]
  },
  {
   "cell_type": "code",
   "execution_count": 9,
   "metadata": {},
   "outputs": [
    {
     "name": "stdout",
     "output_type": "stream",
     "text": [
      "+---------------+--------+-----------+\n",
      "|    Allegiances|is_alive|alive_count|\n",
      "+---------------+--------+-----------+\n",
      "|          Arryn|    true|         20|\n",
      "|      Baratheon|    true|         36|\n",
      "|        Greyjoy|    true|         43|\n",
      "|    House Arryn|    true|          5|\n",
      "|House Baratheon|    true|          4|\n",
      "|  House Greyjoy|    true|         10|\n",
      "|House Lannister|    true|          9|\n",
      "|  House Martell|    true|         11|\n",
      "|    House Stark|    true|         16|\n",
      "|House Targaryen|    true|         15|\n",
      "|    House Tully|    true|          3|\n",
      "|   House Tyrell|    true|         10|\n",
      "|      Lannister|    true|         63|\n",
      "|        Martell|    true|         23|\n",
      "|  Night's Watch|    true|         60|\n",
      "|           None|    true|        177|\n",
      "|          Stark|    true|         46|\n",
      "|      Targaryen|    true|         12|\n",
      "|          Tully|    true|         18|\n",
      "|         Tyrell|    true|         14|\n",
      "+---------------+--------+-----------+\n",
      "only showing top 20 rows\n",
      "\n"
     ]
    }
   ],
   "source": [
    "## result 데이터프레임을 두개의 데이터 프레임으로 쪼갠다. is_alive가 true인지 false인지를 기준으로..\n",
    "\n",
    "df1 = result_df.filter(col(\"is_alive\") == True) \\\n",
    "    .withColumnRenamed(\"count\", \"alive_count\")\n",
    "\n",
    "df1.show()"
   ]
  },
  {
   "cell_type": "code",
   "execution_count": 10,
   "metadata": {},
   "outputs": [
    {
     "name": "stdout",
     "output_type": "stream",
     "text": [
      "+---------------+--------+-----------+\n",
      "|   Allegiances1|is_alive|death_count|\n",
      "+---------------+--------+-----------+\n",
      "|          Arryn|   false|          3|\n",
      "|      Baratheon|   false|         20|\n",
      "|        Greyjoy|   false|          8|\n",
      "|    House Arryn|   false|          2|\n",
      "|House Baratheon|   false|          4|\n",
      "|  House Greyjoy|   false|         14|\n",
      "|House Lannister|   false|         12|\n",
      "|  House Martell|   false|          1|\n",
      "|    House Stark|   false|         19|\n",
      "|House Targaryen|   false|          4|\n",
      "|    House Tully|   false|          5|\n",
      "|   House Tyrell|   false|          1|\n",
      "|      Lannister|   false|         18|\n",
      "|        Martell|   false|          2|\n",
      "|  Night's Watch|   false|         56|\n",
      "|           None|   false|         76|\n",
      "|          Stark|   false|         27|\n",
      "|      Targaryen|   false|          5|\n",
      "|          Tully|   false|          4|\n",
      "|         Tyrell|   false|          1|\n",
      "+---------------+--------+-----------+\n",
      "only showing top 20 rows\n",
      "\n"
     ]
    }
   ],
   "source": [
    "df2 = result_df.filter(col(\"is_alive\") == False) \\\n",
    "    .withColumnRenamed(\"Allegiances\", \"Allegiances1\") \\\n",
    "    .withColumnRenamed(\"count\", \"death_count\")\n",
    "\n",
    "df2.show()"
   ]
  },
  {
   "cell_type": "code",
   "execution_count": 11,
   "metadata": {},
   "outputs": [
    {
     "name": "stdout",
     "output_type": "stream",
     "text": [
      "+---------------+--------+-----------+---------------+--------+-----------+\n",
      "|    Allegiances|is_alive|alive_count|   Allegiances1|is_alive|death_count|\n",
      "+---------------+--------+-----------+---------------+--------+-----------+\n",
      "|          Arryn|    true|         20|          Arryn|   false|          3|\n",
      "|      Baratheon|    true|         36|      Baratheon|   false|         20|\n",
      "|        Greyjoy|    true|         43|        Greyjoy|   false|          8|\n",
      "|    House Arryn|    true|          5|    House Arryn|   false|          2|\n",
      "|House Baratheon|    true|          4|House Baratheon|   false|          4|\n",
      "|  House Greyjoy|    true|         10|  House Greyjoy|   false|         14|\n",
      "|House Lannister|    true|          9|House Lannister|   false|         12|\n",
      "|  House Martell|    true|         11|  House Martell|   false|          1|\n",
      "|    House Stark|    true|         16|    House Stark|   false|         19|\n",
      "|House Targaryen|    true|         15|House Targaryen|   false|          4|\n",
      "|    House Tully|    true|          3|    House Tully|   false|          5|\n",
      "|   House Tyrell|    true|         10|   House Tyrell|   false|          1|\n",
      "|      Lannister|    true|         63|      Lannister|   false|         18|\n",
      "|        Martell|    true|         23|        Martell|   false|          2|\n",
      "|  Night's Watch|    true|         60|  Night's Watch|   false|         56|\n",
      "|           None|    true|        177|           None|   false|         76|\n",
      "|          Stark|    true|         46|          Stark|   false|         27|\n",
      "|      Targaryen|    true|         12|      Targaryen|   false|          5|\n",
      "|          Tully|    true|         18|          Tully|   false|          4|\n",
      "|         Tyrell|    true|         14|         Tyrell|   false|          1|\n",
      "+---------------+--------+-----------+---------------+--------+-----------+\n",
      "only showing top 20 rows\n",
      "\n"
     ]
    }
   ],
   "source": [
    "df1.join(df2, df1[\"Allegiances\"] == df2[\"Allegiances1\"]).show()"
   ]
  },
  {
   "cell_type": "markdown",
   "metadata": {},
   "source": [
    "** join 관련 참고자료"
   ]
  },
  {
   "attachments": {},
   "cell_type": "markdown",
   "metadata": {},
   "source": [
    "<img src=\"1.png\" width=\"700\" />"
   ]
  },
  {
   "cell_type": "code",
   "execution_count": 12,
   "metadata": {},
   "outputs": [
    {
     "name": "stdout",
     "output_type": "stream",
     "text": [
      "+---------------+-----------+-----------+-------------------+\n",
      "|    Allegiances|alive_count|death_count|         alive_rate|\n",
      "+---------------+-----------+-----------+-------------------+\n",
      "|          Arryn|         20|          3| 0.8695652173913043|\n",
      "|      Baratheon|         36|         20| 0.6428571428571429|\n",
      "|        Greyjoy|         43|          8| 0.8431372549019608|\n",
      "|    House Arryn|          5|          2| 0.7142857142857143|\n",
      "|House Baratheon|          4|          4|                0.5|\n",
      "|  House Greyjoy|         10|         14| 0.4166666666666667|\n",
      "|House Lannister|          9|         12|0.42857142857142855|\n",
      "|  House Martell|         11|          1| 0.9166666666666666|\n",
      "|    House Stark|         16|         19|0.45714285714285713|\n",
      "|House Targaryen|         15|          4| 0.7894736842105263|\n",
      "|    House Tully|          3|          5|              0.375|\n",
      "|   House Tyrell|         10|          1| 0.9090909090909091|\n",
      "|      Lannister|         63|         18| 0.7777777777777778|\n",
      "|        Martell|         23|          2|               0.92|\n",
      "|  Night's Watch|         60|         56| 0.5172413793103449|\n",
      "|           None|        177|         76| 0.6996047430830039|\n",
      "|          Stark|         46|         27| 0.6301369863013698|\n",
      "|      Targaryen|         12|          5| 0.7058823529411765|\n",
      "|          Tully|         18|          4| 0.8181818181818182|\n",
      "|         Tyrell|         14|          1| 0.9333333333333333|\n",
      "+---------------+-----------+-----------+-------------------+\n",
      "only showing top 20 rows\n",
      "\n"
     ]
    }
   ],
   "source": [
    "# join을 이용한 결과 데이터 프레임 산출\n",
    "result = df1.join(df2, df1[\"Allegiances\"] == df2[\"Allegiances1\"]) \\\n",
    "    .select(\"Allegiances\", \"alive_count\", \"death_count\", \\\n",
    "       (col(\"alive_count\") / (col(\"alive_count\") + col(\"death_count\"))).alias(\"alive_rate\"))\n",
    "\n",
    "result.show()"
   ]
  },
  {
   "cell_type": "markdown",
   "metadata": {},
   "source": [
    "#### 3) 스파크 데이터 프레임을 판다스 데이터 프레임으로 변환해보기 "
   ]
  },
  {
   "cell_type": "code",
   "execution_count": 6,
   "metadata": {},
   "outputs": [
    {
     "data": {
      "text/html": [
       "<div>\n",
       "<style scoped>\n",
       "    .dataframe tbody tr th:only-of-type {\n",
       "        vertical-align: middle;\n",
       "    }\n",
       "\n",
       "    .dataframe tbody tr th {\n",
       "        vertical-align: top;\n",
       "    }\n",
       "\n",
       "    .dataframe thead th {\n",
       "        text-align: right;\n",
       "    }\n",
       "</style>\n",
       "<table border=\"1\" class=\"dataframe\">\n",
       "  <thead>\n",
       "    <tr style=\"text-align: right;\">\n",
       "      <th></th>\n",
       "      <th>Allegiances</th>\n",
       "      <th>alive_count</th>\n",
       "      <th>death_count</th>\n",
       "      <th>alive_rate</th>\n",
       "    </tr>\n",
       "  </thead>\n",
       "  <tbody>\n",
       "    <tr>\n",
       "      <th>0</th>\n",
       "      <td>Arryn</td>\n",
       "      <td>20</td>\n",
       "      <td>3</td>\n",
       "      <td>0.869565</td>\n",
       "    </tr>\n",
       "    <tr>\n",
       "      <th>1</th>\n",
       "      <td>Baratheon</td>\n",
       "      <td>36</td>\n",
       "      <td>20</td>\n",
       "      <td>0.642857</td>\n",
       "    </tr>\n",
       "    <tr>\n",
       "      <th>2</th>\n",
       "      <td>Greyjoy</td>\n",
       "      <td>43</td>\n",
       "      <td>8</td>\n",
       "      <td>0.843137</td>\n",
       "    </tr>\n",
       "    <tr>\n",
       "      <th>3</th>\n",
       "      <td>House Arryn</td>\n",
       "      <td>5</td>\n",
       "      <td>2</td>\n",
       "      <td>0.714286</td>\n",
       "    </tr>\n",
       "    <tr>\n",
       "      <th>4</th>\n",
       "      <td>House Baratheon</td>\n",
       "      <td>4</td>\n",
       "      <td>4</td>\n",
       "      <td>0.500000</td>\n",
       "    </tr>\n",
       "    <tr>\n",
       "      <th>5</th>\n",
       "      <td>House Greyjoy</td>\n",
       "      <td>10</td>\n",
       "      <td>14</td>\n",
       "      <td>0.416667</td>\n",
       "    </tr>\n",
       "    <tr>\n",
       "      <th>6</th>\n",
       "      <td>House Lannister</td>\n",
       "      <td>9</td>\n",
       "      <td>12</td>\n",
       "      <td>0.428571</td>\n",
       "    </tr>\n",
       "    <tr>\n",
       "      <th>7</th>\n",
       "      <td>House Martell</td>\n",
       "      <td>11</td>\n",
       "      <td>1</td>\n",
       "      <td>0.916667</td>\n",
       "    </tr>\n",
       "    <tr>\n",
       "      <th>8</th>\n",
       "      <td>House Stark</td>\n",
       "      <td>16</td>\n",
       "      <td>19</td>\n",
       "      <td>0.457143</td>\n",
       "    </tr>\n",
       "    <tr>\n",
       "      <th>9</th>\n",
       "      <td>House Targaryen</td>\n",
       "      <td>15</td>\n",
       "      <td>4</td>\n",
       "      <td>0.789474</td>\n",
       "    </tr>\n",
       "    <tr>\n",
       "      <th>10</th>\n",
       "      <td>House Tully</td>\n",
       "      <td>3</td>\n",
       "      <td>5</td>\n",
       "      <td>0.375000</td>\n",
       "    </tr>\n",
       "    <tr>\n",
       "      <th>11</th>\n",
       "      <td>House Tyrell</td>\n",
       "      <td>10</td>\n",
       "      <td>1</td>\n",
       "      <td>0.909091</td>\n",
       "    </tr>\n",
       "    <tr>\n",
       "      <th>12</th>\n",
       "      <td>Lannister</td>\n",
       "      <td>63</td>\n",
       "      <td>18</td>\n",
       "      <td>0.777778</td>\n",
       "    </tr>\n",
       "    <tr>\n",
       "      <th>13</th>\n",
       "      <td>Martell</td>\n",
       "      <td>23</td>\n",
       "      <td>2</td>\n",
       "      <td>0.920000</td>\n",
       "    </tr>\n",
       "    <tr>\n",
       "      <th>14</th>\n",
       "      <td>Night's Watch</td>\n",
       "      <td>60</td>\n",
       "      <td>56</td>\n",
       "      <td>0.517241</td>\n",
       "    </tr>\n",
       "    <tr>\n",
       "      <th>15</th>\n",
       "      <td>None</td>\n",
       "      <td>177</td>\n",
       "      <td>76</td>\n",
       "      <td>0.699605</td>\n",
       "    </tr>\n",
       "    <tr>\n",
       "      <th>16</th>\n",
       "      <td>Stark</td>\n",
       "      <td>46</td>\n",
       "      <td>27</td>\n",
       "      <td>0.630137</td>\n",
       "    </tr>\n",
       "    <tr>\n",
       "      <th>17</th>\n",
       "      <td>Targaryen</td>\n",
       "      <td>12</td>\n",
       "      <td>5</td>\n",
       "      <td>0.705882</td>\n",
       "    </tr>\n",
       "    <tr>\n",
       "      <th>18</th>\n",
       "      <td>Tully</td>\n",
       "      <td>18</td>\n",
       "      <td>4</td>\n",
       "      <td>0.818182</td>\n",
       "    </tr>\n",
       "    <tr>\n",
       "      <th>19</th>\n",
       "      <td>Tyrell</td>\n",
       "      <td>14</td>\n",
       "      <td>1</td>\n",
       "      <td>0.933333</td>\n",
       "    </tr>\n",
       "    <tr>\n",
       "      <th>20</th>\n",
       "      <td>Wildling</td>\n",
       "      <td>17</td>\n",
       "      <td>23</td>\n",
       "      <td>0.425000</td>\n",
       "    </tr>\n",
       "  </tbody>\n",
       "</table>\n",
       "</div>"
      ],
      "text/plain": [
       "        Allegiances  alive_count  death_count  alive_rate\n",
       "0             Arryn           20            3    0.869565\n",
       "1         Baratheon           36           20    0.642857\n",
       "2           Greyjoy           43            8    0.843137\n",
       "3       House Arryn            5            2    0.714286\n",
       "4   House Baratheon            4            4    0.500000\n",
       "5     House Greyjoy           10           14    0.416667\n",
       "6   House Lannister            9           12    0.428571\n",
       "7     House Martell           11            1    0.916667\n",
       "8       House Stark           16           19    0.457143\n",
       "9   House Targaryen           15            4    0.789474\n",
       "10      House Tully            3            5    0.375000\n",
       "11     House Tyrell           10            1    0.909091\n",
       "12        Lannister           63           18    0.777778\n",
       "13          Martell           23            2    0.920000\n",
       "14    Night's Watch           60           56    0.517241\n",
       "15             None          177           76    0.699605\n",
       "16            Stark           46           27    0.630137\n",
       "17        Targaryen           12            5    0.705882\n",
       "18            Tully           18            4    0.818182\n",
       "19           Tyrell           14            1    0.933333\n",
       "20         Wildling           17           23    0.425000"
      ]
     },
     "execution_count": 6,
     "metadata": {},
     "output_type": "execute_result"
    }
   ],
   "source": [
    "result = df1.join(df2, df1[\"Allegiances\"] == df2[\"Allegiances1\"]) \\\n",
    "    .select(\"Allegiances\", \"alive_count\", \"death_count\", \\\n",
    "       (col(\"alive_count\") / (col(\"alive_count\") + col(\"death_count\"))).alias(\"alive_rate\"))\n",
    "\n",
    "result.toPandas()"
   ]
  },
  {
   "cell_type": "markdown",
   "metadata": {},
   "source": [
    "#### 4) window function을 이용하여 매년 죽은인물들의 가문 Top5를 뽑아보기\n",
    "\n",
    "- window function이란 행과 행간의 관계를 쉽게 정의하기 위해 만든 함수다.\n",
    "\n",
    "- 집계한다는 개념보다는 특정 컬럼에서 특정 데이터의 하나하나의 종합적인 정보를 알기위해 많이 쓴다."
   ]
  },
  {
   "cell_type": "code",
   "execution_count": 14,
   "metadata": {},
   "outputs": [
    {
     "name": "stdout",
     "output_type": "stream",
     "text": [
      "+----------+---------------+-----+\n",
      "|Death Year|    Allegiances|count|\n",
      "+----------+---------------+-----+\n",
      "|      null|       Wildling|   17|\n",
      "|      null|  Night's Watch|   60|\n",
      "|      null|          Tully|   18|\n",
      "|      null|        Martell|   23|\n",
      "|      null|    House Arryn|    5|\n",
      "|      null|    House Stark|   16|\n",
      "|      null|          Stark|   46|\n",
      "|      null|      Baratheon|   36|\n",
      "|      null|      Targaryen|   12|\n",
      "|      null|         Tyrell|   14|\n",
      "|      null|      Lannister|   63|\n",
      "|      null|  House Martell|   11|\n",
      "|      null|    House Tully|    3|\n",
      "|      null|           None|  177|\n",
      "|      null|House Targaryen|   15|\n",
      "|      null|House Baratheon|    4|\n",
      "|      null|        Greyjoy|   43|\n",
      "|      null|  House Greyjoy|   10|\n",
      "|      null|          Arryn|   20|\n",
      "|      null|   House Tyrell|   10|\n",
      "+----------+---------------+-----+\n",
      "only showing top 20 rows\n",
      "\n"
     ]
    }
   ],
   "source": [
    "from pyspark.sql.window import Window\n",
    "from pyspark.sql.functions import * \n",
    "\n",
    "result = char_death_df.groupBy('Death Year', 'Allegiances').count().orderBy(col('Death Year'))\n",
    "result.show()"
   ]
  },
  {
   "cell_type": "code",
   "execution_count": 16,
   "metadata": {},
   "outputs": [
    {
     "name": "stdout",
     "output_type": "stream",
     "text": [
      "+----------+-------------+-----+---+\n",
      "|Death Year|  Allegiances|count|  n|\n",
      "+----------+-------------+-----+---+\n",
      "|      null|         None|  177|  1|\n",
      "|      null|    Lannister|   63|  2|\n",
      "|      null|Night's Watch|   60|  3|\n",
      "|      null|        Stark|   46|  4|\n",
      "|      null|      Greyjoy|   43|  5|\n",
      "|       297|Night's Watch|    3|  1|\n",
      "|       298|        Stark|   10|  1|\n",
      "|       298|  House Stark|    9|  2|\n",
      "|       298|         None|    7|  3|\n",
      "|       298|    Targaryen|    4|  4|\n",
      "|       298|     Wildling|    3|  5|\n",
      "|       299|         None|   35|  1|\n",
      "|       299|Night's Watch|   33|  2|\n",
      "|       299|        Stark|   17|  3|\n",
      "|       299|    Baratheon|   16|  4|\n",
      "|       299|House Greyjoy|   11|  5|\n",
      "|       300|         None|   34|  1|\n",
      "|       300|Night's Watch|   18|  2|\n",
      "|       300|     Wildling|   14|  3|\n",
      "|       300|    Lannister|    7|  4|\n",
      "+----------+-------------+-----+---+\n",
      "only showing top 20 rows\n",
      "\n"
     ]
    }
   ],
   "source": [
    "window = Window.partitionBy(\"Death Year\").orderBy(col(\"count\").desc())\n",
    "\n",
    "# 윈도우네는 파티셔닝과 오더링 두개가 들어가는데 파티셔닝이 그룹바이랑 비슷하다고 생각하면 되는 것이고, 오더링은 로우 넘버를 정해서\n",
    "# 무슨순서로 줄을 세운다음 로우넘버를 셀건지 라는 것이다.\n",
    "\n",
    "result.select('*', row_number().over(window).alias('n')).filter(col('n') <= 5).show()\n",
    "\n",
    "# row_number는 집계기준을 어떻게 잡을것인가 설정해주는 것이고, 그것을 .over(window) 처럼 윈도우를 기준으로 하겠다는 것이다."
   ]
  },
  {
   "cell_type": "markdown",
   "metadata": {},
   "source": [
    "#### 5) UDF(User Defined Function) 생성 및 사용해보기\n",
    "\n",
    "- 파이썬 함수를 만들어서 판다스 데이터프레임에 적용하는 것과 비슷한것으로 마찬가지로 파이썬 함수를 만들어서 스파크 데이터프레임에 적용이 가능하다.\n",
    "\n",
    "- 간단한 함수는 람다를 써도 되고, 만드려는 함수가 복잡해지면 UDF가 유용한 기능이다."
   ]
  },
  {
   "cell_type": "code",
   "execution_count": 73,
   "metadata": {},
   "outputs": [
    {
     "name": "stdout",
     "output_type": "stream",
     "text": [
      "+--------------------+---------------+----------+-------------+-------------+------------------+------+--------+---+---+---+---+---+-------+\n",
      "|                Name|    Allegiances|Death Year|Book of Death|Death Chapter|Book Intro Chapter|Gender|Nobility|GoT|CoK|SoS|FfC|DwD|Gender2|\n",
      "+--------------------+---------------+----------+-------------+-------------+------------------+------+--------+---+---+---+---+---+-------+\n",
      "|      Addam Marbrand|      Lannister|      null|         null|         null|                56|     1|       1|  1|  1|  1|  1|  0|   Male|\n",
      "|Aegon Frey (Jingl...|           None|       299|            3|           51|                49|     1|       1|  0|  0|  1|  0|  0|   Male|\n",
      "|     Aegon Targaryen|House Targaryen|      null|         null|         null|                 5|     1|       1|  0|  0|  0|  0|  1|   Male|\n",
      "|       Adrack Humble|  House Greyjoy|       300|            5|           20|                20|     1|       1|  0|  0|  0|  0|  1|   Male|\n",
      "|      Aemon Costayne|      Lannister|      null|         null|         null|              null|     1|       1|  0|  0|  1|  0|  0|   Male|\n",
      "|     Aemon Estermont|      Baratheon|      null|         null|         null|              null|     1|       1|  0|  1|  1|  0|  0|   Male|\n",
      "|Aemon Targaryen (...|  Night's Watch|       300|            4|           35|                21|     1|       1|  1|  0|  1|  1|  0|   Male|\n",
      "|          Aenys Frey|           None|       300|            5|         null|                59|     0|       1|  1|  1|  1|  0|  1|   Male|\n",
      "|       Aeron Greyjoy|  House Greyjoy|      null|         null|         null|                11|     1|       1|  0|  1|  0|  1|  0|   Male|\n",
      "|              Aethan|  Night's Watch|      null|         null|         null|                 0|     1|       0|  0|  0|  1|  0|  0|   Male|\n",
      "|               Aggar|  House Greyjoy|       299|            2|           56|                50|     1|       0|  0|  1|  0|  0|  0|   Male|\n",
      "|                Aggo|House Targaryen|      null|         null|         null|                54|     1|       0|  1|  1|  1|  0|  1|   Male|\n",
      "|       Alan of Rosby|  Night's Watch|       300|            5|            4|                18|     1|       1|  0|  1|  1|  0|  1|   Male|\n",
      "|             Alayaya|           None|      null|         null|         null|                15|     0|       0|  0|  1|  0|  0|  0|   Male|\n",
      "|         Albar Royce|          Arryn|      null|         null|         null|                38|     1|       1|  1|  0|  0|  1|  0|   Male|\n",
      "|              Albett|  Night's Watch|      null|         null|         null|                26|     1|       0|  1|  0|  0|  0|  0|   Male|\n",
      "|            Alebelly|    House Stark|       299|            2|           46|                 4|     1|       0|  0|  1|  0|  0|  0|   Male|\n",
      "|    Alerie Hightower|   House Tyrell|      null|         null|         null|                 6|     0|       1|  0|  0|  1|  1|  0|   Male|\n",
      "|  Alesander Staedmon|      Baratheon|      null|         null|         null|                65|     1|       1|  0|  1|  0|  0|  0|   Male|\n",
      "|     Alester Florent|      Baratheon|       300|            4|         null|                36|     1|       1|  0|  1|  1|  0|  0|   Male|\n",
      "+--------------------+---------------+----------+-------------+-------------+------------------+------+--------+---+---+---+---+---+-------+\n",
      "only showing top 20 rows\n",
      "\n"
     ]
    }
   ],
   "source": [
    "from pyspark.sql.functions import udf\n",
    "from pyspark.sql.types import StringType\n",
    "\n",
    "def genderFunc(gender):\n",
    "    if gender == 1:\n",
    "        return \"Female\" \n",
    "    else:  \n",
    "        return \"Male\"\n",
    "\n",
    "genderStringUDF = udf(genderFunc, StringType())\n",
    "\n",
    "char_death_df.withColumn(\"Gender2\", genderStringUDF(col(\"Gender\"))).show()"
   ]
  },
  {
   "cell_type": "markdown",
   "metadata": {},
   "source": [
    "#### 6) 출력한 데이터 프레임을 파일로 저장하기"
   ]
  },
  {
   "cell_type": "code",
   "execution_count": 80,
   "metadata": {},
   "outputs": [],
   "source": [
    "# 기본적으로 스파크는 하둡분산시스템이기 때문에 파일도 분산저장된다. \n",
    "# 그래서 설정을 잘 걸어줘야 원하는 형태의 파일로 저장할 수 있다.\n",
    "\n",
    "result.repartition(1).write.mode(\"overwrite\").csv(\"result.csv\", header=True, sep='\\t')"
   ]
  },
  {
   "cell_type": "code",
   "execution_count": null,
   "metadata": {},
   "outputs": [],
   "source": [
    "# 또한 jdbc writer를 쓰면 데이터베이스에 데이터를 쉽게 저장할 수 있다.\n",
    "# json이나 Parquet, 오알씨 같은 빅데이터 포멧으로도 저장할 수 있다. csv는 Parquet로 변환해서 저장하면 된다. \n",
    "\n",
    "result.write.jdbc(url=\"jdbc://JDBC_ADDRESS/database_name\", \"table_name\")"
   ]
  }
 ],
 "metadata": {
  "kernelspec": {
   "display_name": "Python 3",
   "language": "python",
   "name": "python3"
  },
  "language_info": {
   "codemirror_mode": {
    "name": "ipython",
    "version": 3
   },
   "file_extension": ".py",
   "mimetype": "text/x-python",
   "name": "python",
   "nbconvert_exporter": "python",
   "pygments_lexer": "ipython3",
   "version": "3.7.1"
  }
 },
 "nbformat": 4,
 "nbformat_minor": 2
}
