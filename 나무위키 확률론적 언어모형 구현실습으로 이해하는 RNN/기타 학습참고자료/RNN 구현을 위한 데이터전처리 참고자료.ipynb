{
 "cells": [
  {
   "cell_type": "code",
   "execution_count": 1,
   "metadata": {},
   "outputs": [],
   "source": [
    "## 개요\n",
    "# 데이터 준비\n",
    "# 나무위키 raw text를 초,중,종성으로 나누어, 학습 데이터 준비 \n",
    "# RNN을 만들어서 모델 학습 \n",
    "# Text Generation"
   ]
  },
  {
   "cell_type": "code",
   "execution_count": 2,
   "metadata": {},
   "outputs": [
    {
     "name": "stdout",
     "output_type": "stream",
     "text": [
      "Collecting hanja\n",
      "  Downloading https://files.pythonhosted.org/packages/13/98/2bd12bb258af22a53e21efcd8a89a862f7aa68300149bebb41b52dc90d1a/hanja-0.11.0.zip (140kB)\n",
      "Building wheels for collected packages: hanja\n",
      "  Running setup.py bdist_wheel for hanja: started\n",
      "  Running setup.py bdist_wheel for hanja: finished with status 'done'\n",
      "  Stored in directory: C:\\Users\\sangw\\AppData\\Local\\pip\\Cache\\wheels\\f5\\3d\\d9\\a1e100cbb38169a7aee20522d7cb3b1101bf4634c186caf622\n",
      "Successfully built hanja\n",
      "Installing collected packages: hanja\n",
      "Successfully installed hanja-0.11.0\n"
     ]
    }
   ],
   "source": [
    "!pip install hanja"
   ]
  },
  {
   "cell_type": "code",
   "execution_count": 3,
   "metadata": {},
   "outputs": [
    {
     "data": {
      "text/plain": [
       "['ㅈ',\n",
       " 'ㅏ',\n",
       " '!',\n",
       " ' ',\n",
       " '1',\n",
       " '2',\n",
       " 'ㅅ',\n",
       " 'ㅣ',\n",
       " 'ㄱ',\n",
       " 'ㅏ',\n",
       " ' ',\n",
       " 'ㄷ',\n",
       " 'ㅚ',\n",
       " 'ㅇ',\n",
       " 'ㅓ',\n",
       " 'ㅆ',\n",
       " 'ㄷ',\n",
       " 'ㅏ',\n",
       " '.']"
      ]
     },
     "execution_count": 3,
     "metadata": {},
     "output_type": "execute_result"
    }
   ],
   "source": [
    "import hanja\n",
    "from hanja import hangul\n",
    "\n",
    "r_cho = [ \"ㄱ\", \"ㄲ\", \"ㄴ\", \"ㄷ\", \"ㄸ\", \"ㄹ\", \"ㅁ\", \"ㅂ\", \"ㅃ\", \"ㅅ\", \"ㅆ\", \"ㅇ\", \"ㅈ\", \"ㅉ\",\n",
    "                \"ㅊ\", \"ㅋ\", \"ㅌ\", \"ㅍ\", \"ㅎ\" ]\n",
    "r_joong = [ \"ㅏ\", \"ㅐ\", \"ㅑ\", \"ㅒ\", \"ㅓ\", \"ㅔ\", \"ㅕ\", \"ㅖ\", \"ㅗ\", \"ㅘ\", \"ㅙ\", \"ㅚ\", \"ㅛ\", \"ㅜ\",\n",
    "                \"ㅝ\", \"ㅞ\", \"ㅟ\", \"ㅠ\", \"ㅡ\", \"ㅢ\", \"ㅣ\" ]\n",
    "r_jong = [ \"\", \"ㄱ\", \"ㄲ\", \"ㄳ\", \"ㄴ\", \"ㄵ\", \"ㄶ\", \"ㄷ\", \"ㄹ\", \"ㄺ\", \"ㄻ\", \"ㄼ\", \"ㄽ\", \"ㄾ\",\n",
    "                \"ㄿ\", \"ㅀ\", \"ㅁ\", \"ㅂ\", \"ㅄ\", \"ㅅ\", \"ㅆ\", \"ㅇ\", \"ㅈ\", \"ㅊ\", \"ㅋ\", \"ㅌ\",\n",
    "                \"ㅍ\", \"ㅎ\" ]\n",
    "import itertools\n",
    "\n",
    "def translateHangul(character):\n",
    "    c = character \n",
    "    if c in r_cho:\n",
    "        return c\n",
    "    if c in r_joong:\n",
    "        return c\n",
    "    if c in r_jong:\n",
    "        return c\n",
    "    if c == ' ':\n",
    "        return ' '\n",
    "    if c.isdigit() or c in [\"!\",\"?\",\",\"]:\n",
    "        return c\n",
    "    if not hangul.is_hangul(c):\n",
    "        return ' '\n",
    "    \n",
    "    s = hangul.separate(character)\n",
    "    result = [r_cho[s[0]], r_joong[s[1]], r_jong[s[2]]]\n",
    "    result = filter(lambda w: w != '', result)\n",
    "    return result\n",
    "\n",
    "def decompose_text_simple(sentence):\n",
    "    characters = list(sentence)\n",
    "    translatetd_sentence = list(itertools.chain.from_iterable(map(translateHangul, characters)))\n",
    "    translatetd_sentence = list(filter(lambda w: w != '?', translatetd_sentence))\n",
    "    translatetd_sentence.append('.') \n",
    "    return translatetd_sentence\n",
    "\n",
    "        \n",
    "sentence = '자! 12시가 되었다'\n",
    "decompose_text_simple(sentence)\n"
   ]
  },
  {
   "cell_type": "code",
   "execution_count": 4,
   "metadata": {},
   "outputs": [
    {
     "name": "stdout",
     "output_type": "stream",
     "text": [
      "ㅈㅏᴥ! 12ㅅㅣᴥㄱㅏᴥ ㄷㅚᴥㅇㅓㅆᴥㄷㅏᴥ\n",
      "자! 12시가 되었다\n"
     ]
    }
   ],
   "source": [
    "## Use better library\n",
    "from Hangulpy3 import decompose_text, automata\n",
    "\n",
    "sentence = '자! 12시가 되었다'\n",
    "decomposed_sentence = decompose_text(sentence)\n",
    "print(decomposed_sentence)\n",
    "\n",
    "restored_sentence = automata(decomposed_sentence)\n",
    "print(restored_sentence)\n"
   ]
  },
  {
   "cell_type": "code",
   "execution_count": 14,
   "metadata": {},
   "outputs": [
    {
     "name": "stdout",
     "output_type": "stream",
     "text": [
      "DESKTOP-0N76CJ2\n"
     ]
    }
   ],
   "source": [
    "input_filename = '/Users/swkim/Data/namuwiki180326/namuwiki_20180326.txt'\n",
    "output_filename = '/Users/swkim/Data/namuwiki180326/namuwiki_20180326_charactor.txt'\n",
    "\n",
    "import socket\n",
    "print(socket.gethostname())\n",
    "if socket.gethostname().startswith('DESKTOP-'): # home desktop\n",
    "    input_filename = 'C:\\\\Users\\\\\\sangw\\\\Documents\\\\Data\\\\namuwiki180326\\\\namuwiki_20180326.txt'\n",
    "    output_filename = 'C:\\\\Users\\\\\\sangw\\\\Documents\\\\Data\\\\namuwiki180326\\\\namuwiki_20180326_charactor.txt'\n"
   ]
  },
  {
   "cell_type": "code",
   "execution_count": 17,
   "metadata": {},
   "outputs": [],
   "source": [
    "line_limit = 1000000000000\n",
    "\n",
    "with open(output_filename, 'w', encoding='utf-8') as output_file:\n",
    "    for index, line in zip(range(line_limit), open(input_filename, 'r', encoding='utf-8')):\n",
    "        for sentence in line.split('. '):\n",
    "            sentence2 = sentence.replace('.\\n', '').replace('\\n', '')\n",
    "            if sentence2 != '':\n",
    "                output_line = ''.join(decompose_text(sentence2))\n",
    "                \n",
    "                output_file.write(output_line + '\\n')"
   ]
  },
  {
   "cell_type": "code",
   "execution_count": null,
   "metadata": {},
   "outputs": [],
   "source": []
  }
 ],
 "metadata": {
  "kernelspec": {
   "display_name": "Python 3",
   "language": "python",
   "name": "python3"
  },
  "language_info": {
   "codemirror_mode": {
    "name": "ipython",
    "version": 3
   },
   "file_extension": ".py",
   "mimetype": "text/x-python",
   "name": "python",
   "nbconvert_exporter": "python",
   "pygments_lexer": "ipython3",
   "version": "3.7.3"
  }
 },
 "nbformat": 4,
 "nbformat_minor": 2
}
