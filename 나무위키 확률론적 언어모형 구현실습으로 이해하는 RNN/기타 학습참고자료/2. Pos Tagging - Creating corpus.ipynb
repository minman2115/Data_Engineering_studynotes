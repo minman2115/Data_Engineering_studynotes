{
 "cells": [
  {
   "cell_type": "code",
   "execution_count": 1,
   "metadata": {},
   "outputs": [
    {
     "name": "stdout",
     "output_type": "stream",
     "text": [
      "Requirement already satisfied: konlpy in /anaconda3/lib/python3.6/site-packages (0.4.4)\n",
      "\u001b[31mdistributed 1.21.8 requires msgpack, which is not installed.\u001b[0m\n"
     ]
    }
   ],
   "source": [
    "!pip install konlpy"
   ]
  },
  {
   "cell_type": "code",
   "execution_count": 2,
   "metadata": {},
   "outputs": [
    {
     "name": "stdout",
     "output_type": "stream",
     "text": [
      "Requirement already satisfied: JPype1-py3 in /anaconda3/lib/python3.6/site-packages (0.5.5.2)\n",
      "\u001b[31mdistributed 1.21.8 requires msgpack, which is not installed.\u001b[0m\n"
     ]
    }
   ],
   "source": [
    "!pip install JPype1-py3"
   ]
  },
  {
   "cell_type": "code",
   "execution_count": 3,
   "metadata": {},
   "outputs": [
    {
     "name": "stdout",
     "output_type": "stream",
     "text": [
      "나무 Noun\n",
      "위키 Noun\n",
      "말뭉치 Noun\n",
      "를 Josa\n",
      "만들어 Verb\n",
      "보자 Verb\n"
     ]
    }
   ],
   "source": [
    "from konlpy.tag import Twitter\n",
    "result = Twitter().pos(\"나무위키 말뭉치를 만들어보자\")\n",
    "for pos in result:\n",
    "    print(pos[0] + ' ' + pos[1])"
   ]
  },
  {
   "cell_type": "code",
   "execution_count": 9,
   "metadata": {},
   "outputs": [],
   "source": [
    "def flat(content):\n",
    "    return [\"{}/{}\".format(word, tag) for word, tag in tagger.pos(content)]"
   ]
  },
  {
   "cell_type": "code",
   "execution_count": 13,
   "metadata": {},
   "outputs": [],
   "source": [
    "tagged = flat(\" 나무위키 말뭉치를 만들어보자\")"
   ]
  },
  {
   "cell_type": "code",
   "execution_count": 14,
   "metadata": {},
   "outputs": [
    {
     "data": {
      "text/plain": [
       "'나무/Noun 위키/Noun 말뭉치/Noun 를/Josa 만들어/Verb 보자/Verb'"
      ]
     },
     "execution_count": 14,
     "metadata": {},
     "output_type": "execute_result"
    }
   ],
   "source": [
    "' '.join(tagged)"
   ]
  },
  {
   "cell_type": "code",
   "execution_count": 4,
   "metadata": {},
   "outputs": [],
   "source": [
    "input_filename = '/Users/swkim/Data/namuwiki180326/_namuwiki_20180326_mini.txt'\n",
    "output_filename = '/Users/swkim/Data/namuwiki180326/_namuwiki_20180326_mini_pos_tagged_corpus.txt'"
   ]
  },
  {
   "cell_type": "code",
   "execution_count": 5,
   "metadata": {},
   "outputs": [],
   "source": [
    "tagger = Twitter()"
   ]
  },
  {
   "cell_type": "code",
   "execution_count": 16,
   "metadata": {},
   "outputs": [],
   "source": [
    "with open(output_filename, 'w', encoding='utf-8') as output_file:\n",
    "    for line in open(input_filename, 'r', encoding='utf-8'):\n",
    "        for sentence in line.split('.'):\n",
    "            tagged = flat(sentence)\n",
    "            if len(tagged) > 1:\n",
    "                a_line = ' '.join(tagged)\n",
    "                output_file.write(a_line + '\\n')"
   ]
  }
 ],
 "metadata": {
  "kernelspec": {
   "display_name": "Python 3",
   "language": "python",
   "name": "python3"
  },
  "language_info": {
   "codemirror_mode": {
    "name": "ipython",
    "version": 3
   },
   "file_extension": ".py",
   "mimetype": "text/x-python",
   "name": "python",
   "nbconvert_exporter": "python",
   "pygments_lexer": "ipython3",
   "version": "3.7.3"
  }
 },
 "nbformat": 4,
 "nbformat_minor": 2
}
