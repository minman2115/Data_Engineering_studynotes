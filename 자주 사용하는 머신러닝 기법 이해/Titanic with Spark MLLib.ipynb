{
 "cells": [
  {
   "cell_type": "code",
   "execution_count": 2,
   "metadata": {},
   "outputs": [],
   "source": [
    "import findspark\n",
    "findspark.init()\n",
    "import pyspark\n",
    "from pyspark.sql import SparkSession\n",
    "\n",
    "spark = SparkSession.builder.getOrCreate()\n",
    "\n"
   ]
  },
  {
   "cell_type": "code",
   "execution_count": 56,
   "metadata": {},
   "outputs": [
    {
     "name": "stdout",
     "output_type": "stream",
     "text": [
      "root\n",
      " |-- PassengerId: integer (nullable = true)\n",
      " |-- Survived: integer (nullable = true)\n",
      " |-- Pclass: integer (nullable = true)\n",
      " |-- Name: string (nullable = true)\n",
      " |-- Sex: string (nullable = true)\n",
      " |-- Age: double (nullable = true)\n",
      " |-- SibSp: integer (nullable = true)\n",
      " |-- Parch: integer (nullable = true)\n",
      " |-- Ticket: string (nullable = true)\n",
      " |-- Fare: double (nullable = true)\n",
      " |-- Cabin: string (nullable = true)\n",
      " |-- Embarked: string (nullable = true)\n",
      "\n"
     ]
    }
   ],
   "source": [
    "df = spark.read.option(\"header\", \"true\").option(\"inferSchema\", \"true\").csv(\"/Users/swkim/Data/data_engineering_school/titanic/train.csv\") \n",
    "df.printSchema()\n"
   ]
  },
  {
   "cell_type": "code",
   "execution_count": 57,
   "metadata": {},
   "outputs": [],
   "source": [
    "from pyspark.sql.functions import *\n",
    "\n",
    "mean_value = df.agg(mean(df[\"Age\"]).alias(\"mean\")).first().mean\n",
    "fixed_df = df.na.fill(mean_value, [\"Age\"])\n"
   ]
  },
  {
   "cell_type": "code",
   "execution_count": 58,
   "metadata": {},
   "outputs": [],
   "source": [
    "dfs = fixed_df.randomSplit([0.7, 0.3])\n",
    "train_df = dfs[0].withColumnRenamed(\"Survived\", \"label\")\n",
    "test_df = dfs[1]\n"
   ]
  },
  {
   "cell_type": "code",
   "execution_count": 59,
   "metadata": {},
   "outputs": [],
   "source": [
    "from pyspark.ml.feature import *\n",
    "\n",
    "def handleCategorical(column): \n",
    "    stringIndexer = StringIndexer().setInputCol(column) \\\n",
    "      .setOutputCol(column + \"_index\")\\\n",
    "      .setHandleInvalid(\"skip\")\n",
    "    oneHot = OneHotEncoder().setInputCol(column + \"_index\").setOutputCol(column + \"_onehot\")\n",
    "    return stringIndexer, oneHot\n"
   ]
  },
  {
   "cell_type": "code",
   "execution_count": 60,
   "metadata": {},
   "outputs": [],
   "source": [
    "genderStages = handleCategorical(\"Sex\")\n",
    "embarkedStages = handleCategorical(\"Embarked\")\n",
    "pClassStages = handleCategorical(\"Pclass\")\n"
   ]
  },
  {
   "cell_type": "code",
   "execution_count": 61,
   "metadata": {},
   "outputs": [],
   "source": [
    "cols = [\"Sex_onehot\", \"Embarked_onehot\", \"Pclass_onehot\", \"SibSp\", \"Parch\", \"Age\", \"Fare\"]\n",
    "vectorAssembler = VectorAssembler().setInputCols(cols).setOutputCol(\"features\")\n",
    "\n",
    "from pyspark.ml.classification import *\n",
    "from pyspark.ml.pipeline import *\n",
    "\n",
    "\n",
    "lr = LogisticRegression()\n",
    "stages = [genderStages[0], genderStages[1], embarkedStages[0], embarkedStages[1], pClassStages[0], pClassStages[1], vectorAssembler, lr]\n",
    "pipeline = Pipeline(stages=stages)\n"
   ]
  },
  {
   "cell_type": "code",
   "execution_count": 74,
   "metadata": {},
   "outputs": [],
   "source": [
    "model = pipeline.fit(train_df)"
   ]
  },
  {
   "cell_type": "code",
   "execution_count": 75,
   "metadata": {},
   "outputs": [
    {
     "name": "stdout",
     "output_type": "stream",
     "text": [
      "train accuracy with pipeline 0.81\n",
      "test accuracy with pipeline 0.81\n"
     ]
    }
   ],
   "source": [
    "from pyspark.ml.evaluation import MulticlassClassificationEvaluator\n",
    "\n",
    "def accuracyScore(predictions_df, label, predictCol):\n",
    "    evaluator = MulticlassClassificationEvaluator(labelCol=label, predictionCol=predictCol, metricName=\"accuracy\")\n",
    "    return evaluator.evaluate(predictions_df)\n",
    "\n",
    "print(\"train accuracy with pipeline %.2f\" % accuracyScore(model.transform(train_df), \"label\", \"prediction\"))\n",
    "print(\"test accuracy with pipeline %.2f\" % accuracyScore(model.transform(test_df), \"Survived\", \"prediction\"))\n"
   ]
  },
  {
   "cell_type": "code",
   "execution_count": null,
   "metadata": {},
   "outputs": [],
   "source": []
  },
  {
   "cell_type": "code",
   "execution_count": null,
   "metadata": {},
   "outputs": [],
   "source": []
  }
 ],
 "metadata": {
  "kernelspec": {
   "display_name": "Python 3",
   "language": "python",
   "name": "python3"
  },
  "language_info": {
   "codemirror_mode": {
    "name": "ipython",
    "version": 3
   },
   "file_extension": ".py",
   "mimetype": "text/x-python",
   "name": "python",
   "nbconvert_exporter": "python",
   "pygments_lexer": "ipython3",
   "version": "3.7.1"
  }
 },
 "nbformat": 4,
 "nbformat_minor": 2
}
