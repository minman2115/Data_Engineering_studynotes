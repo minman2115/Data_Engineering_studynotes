{
 "cells": [
  {
   "cell_type": "markdown",
   "metadata": {},
   "source": [
    "Data_Engineering_TIL_(20190427)\n",
    "\n",
    "\n",
    "#### [학습목표]\n",
    "\n",
    "- Linear Regression 원리 이해\n",
    "\n",
    "\n",
    "#### [학습기록]\n",
    "\n",
    "- 집의 넓이 데이터로 부동산 가격을 예측 하는 Linear Regression을 구현해보자\n",
    "\n",
    "30평 = 3억 4천만원\n",
    "\n",
    "50평 = 5억 6천만원 \n",
    "\n",
    "10평 = 1억 4천만원\n",
    "\n",
    "일때 x평일때 가격은?\n",
    "\n",
    "- Linear Regression 수식 정립"
   ]
  },
  {
   "cell_type": "markdown",
   "metadata": {},
   "source": [
    "<img src=\"1.jpg\" width=\"600\" />"
   ]
  },
  {
   "cell_type": "markdown",
   "metadata": {},
   "source": [
    "- Cost Function\n",
    "\n",
    "어떤가정 h를 세웠을때, 그 가정이 얼마나 틀렸는가를 비용으로 간주하여 수식을 세움\n",
    "\n",
    "이렇게 정의한 비용을 최소화하는 방향을 파라미터들을 조정하면 좀 더 올바른 가정 h를 가질 수 있다.\n",
    "\n",
    "이번 예시에서 비용함수는 아래와 같다.\n",
    "\n",
    "파라미터가 세타0, 세타1인 비용함수이다.\n",
    "\n",
    "아래 비용함수 수식에서 1/2m은 계산상 편의를 위해, 미분했을때 깔끔하게 떨어지기 때문에 임의로 앞에 붙여준 것이다."
   ]
  },
  {
   "cell_type": "markdown",
   "metadata": {},
   "source": [
    "<img src=\"2.jpg\" width=\"1000\" />"
   ]
  },
  {
   "cell_type": "markdown",
   "metadata": {},
   "source": [
    "<img src=\"3.png\" width=\"1000\" />"
   ]
  },
  {
   "cell_type": "markdown",
   "metadata": {},
   "source": [
    "- 그렇다면 J(세타0, 세타1)의 최저점은 어떻게 찾을것인가?\n",
    "\n",
    "= 오차값을 어떻게 최소화할 것인가?\n",
    "\n",
    "= cost function 등고선의 골짜기 찾기\n",
    "\n",
    "- 임의의 지점에서 시작하여 기울기가 낮아지는 지점쪽으로 계속 이동하는 방법을 쓰는데 그 방법을 Gradient Descent 라고 한다.\n",
    "\n",
    "기울기 = 비용함수의 미분값"
   ]
  },
  {
   "cell_type": "markdown",
   "metadata": {},
   "source": [
    "<img src=\"4.png\" width=\"1000\" />"
   ]
  },
  {
   "cell_type": "markdown",
   "metadata": {},
   "source": [
    "- Gradient descent"
   ]
  },
  {
   "cell_type": "markdown",
   "metadata": {},
   "source": [
    "<img src=\"5.jpg\" width=\"1000\" />"
   ]
  },
  {
   "cell_type": "markdown",
   "metadata": {},
   "source": [
    "#### [실습프리뷰]\n",
    "\n",
    "위의 회귀분석 예시를 각각의 방법으로 구현해본다.\n",
    "\n",
    "1) 파이썬 프로그래밍으로 구현\n",
    "\n",
    "2) numpy를 이용해서 구현\n",
    "\n",
    "3) scikit-learn을 이용해서 구현\n",
    "\n",
    "4) spark를 이용해서 구현\n",
    "\n",
    "#### 1) 파이썬 프로그래밍으로 구현\n",
    "\n",
    "참고로 변수명 뒤에 _ (언더스코어)가 붙으면 고정된 값임\n",
    "\n",
    "step1)"
   ]
  },
  {
   "cell_type": "code",
   "execution_count": 43,
   "metadata": {},
   "outputs": [
    {
     "data": {
      "text/plain": [
       "35000"
      ]
     },
     "execution_count": 43,
     "metadata": {},
     "output_type": "execute_result"
    }
   ],
   "source": [
    "x_ = [30, 50, 10]\n",
    "# 평수\n",
    "\n",
    "y_ = [34000, 56000, 14000] \n",
    "# 단위 : 만원\n",
    "\n",
    "theta0_ = 5000\n",
    "theta1_ = 1000\n",
    "\n",
    "def h(x):\n",
    "    return theta1_ * x + theta0_\n",
    "# h(x) = 1000x + 5000 구현\n",
    "\n",
    "# 평수 30을 넣었을때 실제값과 약간의 차이가 있는 것을 보임\n",
    "h(30)"
   ]
  },
  {
   "cell_type": "markdown",
   "metadata": {},
   "source": [
    "step 2)\n",
    "\n",
    "이제 하고 싶은 것은 gradient decent 방식을 구현해서 조금 더 나은 오차함수를 출력하고 싶음"
   ]
  },
  {
   "cell_type": "code",
   "execution_count": 44,
   "metadata": {},
   "outputs": [
    {
     "name": "stdout",
     "output_type": "stream",
     "text": [
      "115094.46476318393\n"
     ]
    }
   ],
   "source": [
    "def cost_function():\n",
    "    accumulator = 0\n",
    "    m = len(x_)\n",
    "    \n",
    "    for i in range(len(x_)):\n",
    "        accumulator += (h(x_[i]) - y_[i]) ** 2\n",
    "    \n",
    "    return 1/(2*m) * accumulator\n",
    "\n",
    "def calculate_grad():\n",
    "    m = len(x_)\n",
    "        \n",
    "    grad_theta0 = 1/m * (h(x_[0])-y_[0] + h(x_[1])-y_[1] + h(x_[2])-y_[2])\n",
    "    grad_theta1 = 1/m * (((h(x_[0])-y_[0]) * x_[0]) + ((h(x_[1])-y_[1]) * x_[1]) + \\\n",
    "                         ((h(x_[2])-y_[2]) * x_[2]))\n",
    "    \n",
    "    return grad_theta0, grad_theta1\n",
    "\n",
    "def print_current_cost():\n",
    "    print(cost_function())\n",
    "\n",
    "alpha = 0.001\n",
    "\n",
    "for i in range(10000):\n",
    "    grad_theta0, grad_theta1 = calculate_grad()\n",
    "    theta0_ = theta0_ - alpha * grad_theta0\n",
    "    theta1_ = theta1_ - alpha * grad_theta1\n",
    "\n",
    "print_current_cost()"
   ]
  },
  {
   "cell_type": "markdown",
   "metadata": {},
   "source": [
    "#### 2) numpy를 이용해서 구현"
   ]
  },
  {
   "cell_type": "code",
   "execution_count": 155,
   "metadata": {},
   "outputs": [],
   "source": [
    "import numpy as np\n",
    "\n",
    "x_np_ = np.array([30, 50, 10])\n",
    "y_np_ = np.array([34000, 56000, 14000])\n",
    "\n",
    "m = x_np_.shape[0] # m = 3\n",
    "alpha = 0.001\n",
    "\n",
    "x_np_combined_ = np.concatenate([np.ones(m).reshape(m, 1), x_np_.reshape(m,1)], axis=1)\n",
    "# x_np_combined_ =\n",
    "# [[ 1. 30.]\n",
    "#  [ 1. 50.]\n",
    "# [ 1 .10.]]\n",
    "\n",
    "theta_ = np.array([5000, 1000]) # theta_ = [5000 1000]\n",
    "\n",
    "def h_np(x_np_combined_): \n",
    "    return x_np_combined_.dot(theta_)\n",
    "\n",
    "def cost_function_np():\n",
    "    return 1/(2*m) * np.sum( ( h_np(x_np_combined_) - y_np_ ) ** 2 )\n",
    "\n",
    "def print_current_cost_np():\n",
    "    print(cost_function_np())\n",
    "    \n",
    "def calculate_grad_np():\n",
    "    grad_theta = 1/m * x_np_combined_.T.dot(h_np(x_np_combined_) - y_np_)    \n",
    "    return grad_theta"
   ]
  },
  {
   "cell_type": "code",
   "execution_count": 142,
   "metadata": {},
   "outputs": [
    {
     "name": "stdout",
     "output_type": "stream",
     "text": [
      "115094.46476318393\n"
     ]
    }
   ],
   "source": [
    "for i in range(10000):\n",
    "    grad_theta = calculate_grad_np()\n",
    "    theta_ = theta_ - alpha * grad_theta\n",
    "    \n",
    "print_current_cost_np()"
   ]
  },
  {
   "cell_type": "code",
   "execution_count": 143,
   "metadata": {},
   "outputs": [
    {
     "data": {
      "text/plain": [
       "array([3353.35983726, 1045.19837837])"
      ]
     },
     "execution_count": 143,
     "metadata": {},
     "output_type": "execute_result"
    }
   ],
   "source": [
    "theta_"
   ]
  },
  {
   "cell_type": "markdown",
   "metadata": {},
   "source": [
    "#### 3) scikit-learn으로 구현"
   ]
  },
  {
   "cell_type": "code",
   "execution_count": 310,
   "metadata": {},
   "outputs": [],
   "source": [
    "from sklearn.linear_model import LinearRegression\n",
    "\n",
    "m = x_np_.shape[0]\n",
    "x_np_sk_ = np.array([30, 50, 10]).reshape(m,1)\n",
    "y_np_sk_ = np.array([34000, 56000, 14000]).reshape(m,1)\n",
    "\n",
    "lr_sklearn = LinearRegression()\n",
    "\n",
    "model = lr_sklearn.fit(x_np_sk_, y_np_sk_)"
   ]
  },
  {
   "cell_type": "code",
   "execution_count": 311,
   "metadata": {},
   "outputs": [
    {
     "data": {
      "text/plain": [
       "array([[1050.]])"
      ]
     },
     "execution_count": 311,
     "metadata": {},
     "output_type": "execute_result"
    }
   ],
   "source": [
    "model.coef_"
   ]
  },
  {
   "cell_type": "code",
   "execution_count": 315,
   "metadata": {},
   "outputs": [
    {
     "data": {
      "text/plain": [
       "array([3166.66666667])"
      ]
     },
     "execution_count": 315,
     "metadata": {},
     "output_type": "execute_result"
    }
   ],
   "source": [
    "model.intercept_"
   ]
  },
  {
   "cell_type": "code",
   "execution_count": 316,
   "metadata": {},
   "outputs": [
    {
     "data": {
      "text/plain": [
       "array([[34666.66666667]])"
      ]
     },
     "execution_count": 316,
     "metadata": {},
     "output_type": "execute_result"
    }
   ],
   "source": [
    "model.predict([[30]])"
   ]
  },
  {
   "cell_type": "markdown",
   "metadata": {},
   "source": [
    "#### 4) spark로 구현"
   ]
  },
  {
   "cell_type": "code",
   "execution_count": 4,
   "metadata": {},
   "outputs": [
    {
     "data": {
      "text/html": [
       "<div>\n",
       "<style scoped>\n",
       "    .dataframe tbody tr th:only-of-type {\n",
       "        vertical-align: middle;\n",
       "    }\n",
       "\n",
       "    .dataframe tbody tr th {\n",
       "        vertical-align: top;\n",
       "    }\n",
       "\n",
       "    .dataframe thead th {\n",
       "        text-align: right;\n",
       "    }\n",
       "</style>\n",
       "<table border=\"1\" class=\"dataframe\">\n",
       "  <thead>\n",
       "    <tr style=\"text-align: right;\">\n",
       "      <th></th>\n",
       "      <th>feature1</th>\n",
       "      <th>label</th>\n",
       "    </tr>\n",
       "  </thead>\n",
       "  <tbody>\n",
       "    <tr>\n",
       "      <th>0</th>\n",
       "      <td>30</td>\n",
       "      <td>34000</td>\n",
       "    </tr>\n",
       "    <tr>\n",
       "      <th>1</th>\n",
       "      <td>50</td>\n",
       "      <td>56000</td>\n",
       "    </tr>\n",
       "    <tr>\n",
       "      <th>2</th>\n",
       "      <td>10</td>\n",
       "      <td>14000</td>\n",
       "    </tr>\n",
       "  </tbody>\n",
       "</table>\n",
       "</div>"
      ],
      "text/plain": [
       "   feature1  label\n",
       "0        30  34000\n",
       "1        50  56000\n",
       "2        10  14000"
      ]
     },
     "execution_count": 4,
     "metadata": {},
     "output_type": "execute_result"
    }
   ],
   "source": [
    "import numpy as np\n",
    "import pandas as pd\n",
    "\n",
    "x_np_ = np.array([30, 50, 10])\n",
    "\n",
    "m = x_np_.shape[0]\n",
    "\n",
    "x_np_sk_ = np.array([30, 50, 10]).reshape(m,1)\n",
    "y_np_sk_ = np.array([34000, 56000, 14000]).reshape(m,1)\n",
    "\n",
    "data = np.concatenate([x_np_sk_, y_np_sk_], axis=1)\n",
    "\n",
    "pd_df = pd.DataFrame(data,columns=['feature1','label'])\n",
    "\n",
    "pd_df"
   ]
  },
  {
   "cell_type": "code",
   "execution_count": 5,
   "metadata": {},
   "outputs": [
    {
     "name": "stdout",
     "output_type": "stream",
     "text": [
      "+--------+-----+\n",
      "|feature1|label|\n",
      "+--------+-----+\n",
      "|      30|34000|\n",
      "|      50|56000|\n",
      "|      10|14000|\n",
      "+--------+-----+\n",
      "\n"
     ]
    }
   ],
   "source": [
    "import findspark\n",
    "findspark.init(\"/home/minman/다운로드/spark-2.4.0-bin-hadoop2.7\")\n",
    "\n",
    "import pyspark\n",
    "from pyspark.sql import SparkSession\n",
    "\n",
    "spark = SparkSession.builder.getOrCreate()\n",
    "\n",
    "df = spark.createDataFrame(pd_df)\n",
    "df.show()"
   ]
  },
  {
   "cell_type": "code",
   "execution_count": 6,
   "metadata": {},
   "outputs": [
    {
     "name": "stdout",
     "output_type": "stream",
     "text": [
      "Coefficients: [1050.000000000002]\n",
      "Intercept: 3166.6666666666024\n"
     ]
    }
   ],
   "source": [
    "from pyspark.ml.regression import LinearRegression\n",
    "\n",
    "from pyspark.ml.feature import VectorAssembler\n",
    "\n",
    "assembler = VectorAssembler(\n",
    "    inputCols=[\"feature1\"],\n",
    "    outputCol=\"features\")\n",
    "\n",
    "df_feature = assembler.transform(df)\n",
    "\n",
    "spark_lr = LinearRegression(maxIter=10)\n",
    "spark_lr_model = spark_lr.fit(df_feature)\n",
    "\n",
    "# Print the coefficients and intercept for linear regression\n",
    "print(\"Coefficients: %s\" % str(spark_lr_model.coefficients))\n",
    "print(\"Intercept: %s\" % str(spark_lr_model.intercept))"
   ]
  }
 ],
 "metadata": {
  "kernelspec": {
   "display_name": "Python 3",
   "language": "python",
   "name": "python3"
  },
  "language_info": {
   "codemirror_mode": {
    "name": "ipython",
    "version": 3
   },
   "file_extension": ".py",
   "mimetype": "text/x-python",
   "name": "python",
   "nbconvert_exporter": "python",
   "pygments_lexer": "ipython3",
   "version": "3.7.1"
  }
 },
 "nbformat": 4,
 "nbformat_minor": 2
}
