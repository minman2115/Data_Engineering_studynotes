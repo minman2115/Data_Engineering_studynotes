{
 "cells": [
  {
   "cell_type": "markdown",
   "metadata": {},
   "source": [
    "참고 URL : https://extrememanual.net/7223\n",
    "\n",
    "step 1) 버츄얼박스 사이트 접속 및 다운로드\n",
    "\n",
    "다운로드 URL : https://www.virtualbox.org/wiki/Downloads\n",
    "\n",
    "다운로드 URL 접속해서 VirtualBox 6.0.4 platform packages의 Windows hosts 클릭\n",
    "\n",
    "- 오라클 버츄얼박스 개요\n",
    "\n",
    "사용하고 있는 운영체제 위에서 가상의 컴퓨터를 생성하고 실제 물리 PC와 운영체제의  자원을 일부 나눠 사용하는 가상화 툴\n",
    "\n",
    "step 2) 다운로드한 버츄얼박스 설치\n",
    "\n",
    "설치는 기본적인 옵션으로 쭉 설치하면 되고, 버츄얼박스와 호스트운영체제에서 하드웨어 리소스 공유를 위한 드라이버 설치 여부도 물어보는데 설치를 해준다.\n",
    "\n",
    "step 3) 버츄얼 박스 Extension Pack 다운로드 및 설치\n",
    "\n",
    "다시 다운로드 URL로 접속해서 VirtualBox 6.0.4 Oracle VM VirtualBox Extension Pack의 All supported platforms를 클릭하여 익스텐션 팩을 다운로드 받는다.\n",
    "\n",
    "버츄얼박스 확장팩은 각종 하드웨어의 추가적인 설정에 도움을 주는 팩으로 다운로드 받아서 설치를 해야한다.\n",
    "\n",
    "다운로드 받은 확장팩을 실행하면 버츄얼박스에서 확장팩 설치를 물어보는데 설치 버튼을 클릭해준다.\n",
    "\n",
    "step 4) 우분투 ISO 이미지 다운로드\n",
    "\n",
    "다운로드 URL : https://www.ubuntu.com/download/desktop\n",
    "\n",
    "다운로드 URL 접속해서 최신버전의 우분투 iso이미지를 다운받는다.\n",
    "\n",
    "step 5) 이제 우분투 설치 및 가상환경 설정을 본격적으로 해야 한다.\n",
    "\n",
    "버츄얼박스를 실행하고 좌측상단에 '새로만들기'를 클릭한다.\n",
    "\n",
    "step 6) 가상머신 만들기 옵션에서 이름은 임의로 설정하고 종류는 리눅스, 버전은 Ubuntu(64-bit)를 선택한 다음에 원하는 메로리 크기를 설정해준다.\n",
    "\n",
    "하드 디스크 선택 옵션에서는 '지금 새 가상 하드 디스크 만들기'를 선택한 다음에 '만들기'를 클릭해준다.\n",
    "\n",
    "step 7) 가상 하드 디스크 만들기 옵션 설정\n",
    "\n",
    "파일 크기를 원하는 만큼 설정해주고, 하드디스크 파일 종류는 VDI(버츄얼박스 디스크 이미지)로 선택을 해준다. 물리적 하드 드라이브에 저장 옵션은 둘중하나를 임의로 선택해준다.\n",
    "\n",
    "여기서 물리적 하드 드라이브 저장옵션에서 동적할당이란 가상 하드디스크의 크기를 지정한 크기 안에서 유기적으로 조절하는 것을 말한다. 예를 들어서 내가 100기가를 지정해주면 100기가 내에서 내가 실질적으로 쓰는 용량만큼 실제로 용량을 잡아주게 된다. 예를 들어서 내가 실질적으로 20기가만 쓰고 있으면 20기가만 잡아먹게 된다. 단점으로는 고정크기 옵션에 비해 속도가 느리다.\n",
    "\n",
    "step 8) '만들기'를 클릭해줬으면 생성된 가상머신이 보일것이다. 생성된 가상머신을 마우스 오른쪽 클릭해서 '설정'메뉴를 클릭해준다.\n",
    "\n",
    "step 9) 가상머신의 메모리 할당은 임의로 적당히 할당해준다."
   ]
  },
  {
   "cell_type": "markdown",
   "metadata": {},
   "source": [
    "<img src=\"1.png\" width=\"1000\" />"
   ]
  },
  {
   "cell_type": "markdown",
   "metadata": {},
   "source": [
    "step 9) 디스플레이에서 비디오 메모리도 적당히 할당해준다."
   ]
  },
  {
   "cell_type": "markdown",
   "metadata": {},
   "source": [
    "<img src=\"2.png\" width=\"1000\" />"
   ]
  },
  {
   "cell_type": "markdown",
   "metadata": {},
   "source": [
    "step 10) '컨트롤러 : IDE'를 클릭하면 오른쪽에 씨디 모양의 이미지가 있는데 그걸 클릭하면, 가상 광학 디스크 파일 선택 옵션이 나오는데 우리가 다운로드 받았던 우분투 ISO를 선택해준다."
   ]
  },
  {
   "cell_type": "markdown",
   "metadata": {},
   "source": [
    "<img src=\"3.png\" width=\"1000\" />"
   ]
  },
  {
   "cell_type": "markdown",
   "metadata": {},
   "source": [
    "부팅이미지를 반드시 IDE에 물려야 한다."
   ]
  },
  {
   "cell_type": "markdown",
   "metadata": {},
   "source": [
    "<img src=\"3-2.png\" width=\"1000\" />"
   ]
  },
  {
   "cell_type": "markdown",
   "metadata": {},
   "source": [
    "step 11) 네트워크도 반드시 아래 그림처럼 설정해준다.\n",
    "\n",
    "다음에 연결됨을 NAT를 해줘야 한다."
   ]
  },
  {
   "cell_type": "markdown",
   "metadata": {},
   "source": [
    "<img src=\"4.png\" width=\"1000\" />"
   ]
  },
  {
   "cell_type": "markdown",
   "metadata": {},
   "source": [
    "step 12) 이렇게 설정이 완료되면 좌측에 생성한 우분투를 클릭하고 상단에 시작을 클릭하면 버츄얼 박스 우분투가 구동된다.\n",
    "\n",
    "step 13) 우분투 운영체제를 설치하고, 가상환경을 사용한다."
   ]
  }
 ],
 "metadata": {
  "kernelspec": {
   "display_name": "Python 3",
   "language": "python",
   "name": "python3"
  },
  "language_info": {
   "codemirror_mode": {
    "name": "ipython",
    "version": 3
   },
   "file_extension": ".py",
   "mimetype": "text/x-python",
   "name": "python",
   "nbconvert_exporter": "python",
   "pygments_lexer": "ipython3",
   "version": "3.7.1"
  }
 },
 "nbformat": 4,
 "nbformat_minor": 2
}
